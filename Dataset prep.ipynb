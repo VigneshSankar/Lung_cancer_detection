{
 "cells": [
  {
   "cell_type": "code",
   "execution_count": 4,
   "metadata": {},
   "outputs": [],
   "source": [
    "#!/usr/bin/env python3\n",
    "# code to replicate the performance of the NIPS'16 MLHC workshop paper \"Cam CNNS predict anatomy?\"\n",
    "\n",
    "from __future__ import absolute_import\n",
    "from __future__ import print_function\n",
    "\n",
    "import os\n",
    "import csv\n",
    "import six\n",
    "\n",
    "import numpy as np\n",
    "import time\n",
    "import json\n",
    "import warnings\n",
    "\n",
    "from collections import deque\n",
    "from collections import OrderedDict\n",
    "from collections import Iterable\n",
    "\n",
    "# os.environ[\"THEANO_FLAGS\"] = \"device=gpu0,floatX=float32\" \n",
    "\n",
    "os.environ['KERAS_BACKEND'] = 'tensorflow'\n",
    "# os.environ[\n",
    "#     \"THEANO_FLAGS\"] = \"mode=FAST_RUN,device=gpu,floatX=float32,force_device=true\"#,lib.cnmem=0.7 ,nvcc.flags=-D_FORCE_INLINES\"\n",
    "import sys\n",
    "import numpy as np\n",
    "from keras import backend as K\n",
    "K.set_image_data_format('channels_first')\n",
    "#from keras.datasets import cifar10\n",
    "#keras.callbacks.Callback()\n",
    "from keras.preprocessing.image import ImageDataGenerator\n",
    "from keras.models import Sequential\n",
    "from keras.layers import Dense, Dropout, Activation, Flatten\n",
    "from keras.applications.vgg16 import VGG16\n",
    "from keras.preprocessing import image\n",
    "from keras.applications.vgg16 import preprocess_input\n",
    "from keras.layers.advanced_activations import LeakyReLU\n",
    "from keras.layers import Convolution2D, MaxPooling2D \n",
    "from keras.layers import GlobalAveragePooling2D\n",
    "from keras.layers.normalization import BatchNormalization as BN\n",
    "from keras.optimizers import Adam\n",
    "from keras.utils import np_utils\n",
    "from keras.models import model_from_json\n",
    "from keras.callbacks import ModelCheckpoint, Callback\n",
    "from keras.models import load_model\n",
    "from keras.datasets import mnist\n",
    "from scipy import io\n",
    "from IPython.core.debugger import Tracer\n",
    "import matplotlib.pyplot as plt\n",
    "# from Ipython.display import display, clear_output\n"
   ]
  },
  {
   "cell_type": "code",
   "execution_count": 6,
   "metadata": {},
   "outputs": [],
   "source": [
    "def load_data():\n",
    "    X = np.load('/work/vsankar/Project-Luna/image_array.npy')\n",
    "    Y = np.load('/work/vsankar/Project-Luna/new_labels.npy')\n",
    "    Tracer()()\n",
    "    x_images = np.empty([1,1,X.shape[2],X.shape[3]])\n",
    "    y_labels = np.empty([1])\n",
    "#     for i,y in enumerate(Y):\n",
    "#         Tracer()()\n",
    "#         if y > 4.0:\n",
    "#             Y[i] = 4.0\n",
    "    n=0;\n",
    "    for i,y in enumerate(Y):\n",
    "        print(i)\n",
    "        sys.stdout.flush()\n",
    "        if y<=2.0:\n",
    "            Y[i] = 0.0\n",
    "#             y_labels = np.append(y_labels,[0.0],axis=0)\n",
    "#             x_images = np.append(x_images,X[i:i+1,:,:,:],axis=0)\n",
    "            \n",
    "        elif y>=4:\n",
    "            Y[i] = 1.0\n",
    "#             y_labels = np.append(y_labels,[1.0],axis=0)\n",
    "#             x_images = np.append(x_images,X[i:i+1,:,:,:],axis=0)\n",
    "            \n",
    "            \n",
    "\n",
    "    a = range(len(y_labels))\n",
    "    np.random.shuffle(a)\n",
    "    idx_test = a[:2510]\n",
    "    idx_train = a[2510:]\n",
    "    \n",
    "#     Tracer()()\n",
    "    \n",
    "    X_train = x_images[idx_train]\n",
    "    X_test = x_images[idx_test]\n",
    "    y_train = y_labels[idx_train]\n",
    "    y_test = y_labels[idx_test]\n",
    "\n",
    "    return X_train,y_train,X_test,y_test\n"
   ]
  },
  {
   "cell_type": "code",
   "execution_count": 7,
   "metadata": {},
   "outputs": [],
   "source": [
    "def normalize_date(X_train,Y_train,X_test,Y_test,nb_classes):\n",
    "    print('X_train shape:', X_train.shape)\n",
    "    print(X_train.shape[0], 'train samples')\n",
    "    print(X_test.shape[0], 'test samples')\n",
    "\n",
    "    X_train = X_train.astype('float32')\n",
    "    X_test = X_test.astype('float32')\n",
    "    Y_train = Y_train.astype('float32')\n",
    "    Y_test = Y_test.astype('float32')\n",
    "\n",
    "#     normalizing the data\n",
    "    X_train /= 4095.0   \n",
    "    X_test /= 4095.0\n",
    "    \n",
    "    #std\n",
    "#     X_train = X_train/np.std(X_train) - np.mean(X_train)\n",
    "#     X_test = X_test/np.std(X_test) - np.mean(X_test)\n",
    "    \n",
    "#     Tracer()()\n",
    "    # convert class vectors to binary class matrices\n",
    "    Y_train = np_utils.to_categorical(Y_train, nb_classes)\n",
    "    Y_test = np_utils.to_categorical(Y_test, nb_classes)\n",
    "    \n",
    "    return X_train,Y_train,X_test,Y_test"
   ]
  },
  {
   "cell_type": "code",
   "execution_count": null,
   "metadata": {},
   "outputs": [],
   "source": []
  },
  {
   "cell_type": "code",
   "execution_count": 8,
   "metadata": {},
   "outputs": [
    {
     "name": "stderr",
     "output_type": "stream",
     "text": [
      "/home/vsankar/pyenvs/LungCancer/lib/python2.7/site-packages/ipykernel/__main__.py:4: DeprecationWarning: `Tracer` is deprecated since version 5.1, directly use `IPython.core.debugger.Pdb.set_trace()`\n"
     ]
    },
    {
     "name": "stdout",
     "output_type": "stream",
     "text": [
      "> \u001b[0;32m<ipython-input-6-a7fe9aff159c>\u001b[0m(5)\u001b[0;36mload_data\u001b[0;34m()\u001b[0m\n",
      "\u001b[0;32m      3 \u001b[0;31m    \u001b[0mY\u001b[0m \u001b[0;34m=\u001b[0m \u001b[0mnp\u001b[0m\u001b[0;34m.\u001b[0m\u001b[0mload\u001b[0m\u001b[0;34m(\u001b[0m\u001b[0;34m'/work/vsankar/Project-Luna/new_labels.npy'\u001b[0m\u001b[0;34m)\u001b[0m\u001b[0;34m\u001b[0m\u001b[0m\n",
      "\u001b[0m\u001b[0;32m      4 \u001b[0;31m    \u001b[0mTracer\u001b[0m\u001b[0;34m(\u001b[0m\u001b[0;34m)\u001b[0m\u001b[0;34m(\u001b[0m\u001b[0;34m)\u001b[0m\u001b[0;34m\u001b[0m\u001b[0m\n",
      "\u001b[0m\u001b[0;32m----> 5 \u001b[0;31m    \u001b[0mx_images\u001b[0m \u001b[0;34m=\u001b[0m \u001b[0mnp\u001b[0m\u001b[0;34m.\u001b[0m\u001b[0mempty\u001b[0m\u001b[0;34m(\u001b[0m\u001b[0;34m[\u001b[0m\u001b[0;36m1\u001b[0m\u001b[0;34m,\u001b[0m\u001b[0;36m1\u001b[0m\u001b[0;34m,\u001b[0m\u001b[0mX\u001b[0m\u001b[0;34m.\u001b[0m\u001b[0mshape\u001b[0m\u001b[0;34m[\u001b[0m\u001b[0;36m2\u001b[0m\u001b[0;34m]\u001b[0m\u001b[0;34m,\u001b[0m\u001b[0mX\u001b[0m\u001b[0;34m.\u001b[0m\u001b[0mshape\u001b[0m\u001b[0;34m[\u001b[0m\u001b[0;36m3\u001b[0m\u001b[0;34m]\u001b[0m\u001b[0;34m]\u001b[0m\u001b[0;34m)\u001b[0m\u001b[0;34m\u001b[0m\u001b[0m\n",
      "\u001b[0m\u001b[0;32m      6 \u001b[0;31m    \u001b[0my_labels\u001b[0m \u001b[0;34m=\u001b[0m \u001b[0mnp\u001b[0m\u001b[0;34m.\u001b[0m\u001b[0mempty\u001b[0m\u001b[0;34m(\u001b[0m\u001b[0;34m[\u001b[0m\u001b[0;36m1\u001b[0m\u001b[0;34m]\u001b[0m\u001b[0;34m)\u001b[0m\u001b[0;34m\u001b[0m\u001b[0m\n",
      "\u001b[0m\u001b[0;32m      7 \u001b[0;31m\u001b[0;31m#     for i,y in enumerate(Y):\u001b[0m\u001b[0;34m\u001b[0m\u001b[0;34m\u001b[0m\u001b[0m\n",
      "\u001b[0m\n",
      "ipdb> q\n",
      "Exiting Debugger.\n"
     ]
    }
   ],
   "source": [
    "X_test,y_test,X_train,y_train = load_data()\n",
    "nb_classe=2\n",
    "X_train,Y_train,X_test,Y_test = normalize_date(X_train,y_train,X_test,y_test,nb_classe)"
   ]
  },
  {
   "cell_type": "code",
   "execution_count": null,
   "metadata": {},
   "outputs": [],
   "source": []
  },
  {
   "cell_type": "code",
   "execution_count": null,
   "metadata": {},
   "outputs": [],
   "source": []
  },
  {
   "cell_type": "code",
   "execution_count": null,
   "metadata": {},
   "outputs": [],
   "source": []
  }
 ],
 "metadata": {
  "kernelspec": {
   "display_name": "Python (Lunch Cancer)",
   "language": "python",
   "name": "lung-cancer"
  },
  "language_info": {
   "codemirror_mode": {
    "name": "ipython",
    "version": 2
   },
   "file_extension": ".py",
   "mimetype": "text/x-python",
   "name": "python",
   "nbconvert_exporter": "python",
   "pygments_lexer": "ipython2",
   "version": "2.7.8"
  }
 },
 "nbformat": 4,
 "nbformat_minor": 2
}
