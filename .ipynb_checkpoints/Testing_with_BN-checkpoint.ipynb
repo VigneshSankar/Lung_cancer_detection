{
 "cells": [
  {
   "cell_type": "code",
   "execution_count": 8,
   "metadata": {},
   "outputs": [
    {
     "name": "stderr",
     "output_type": "stream",
     "text": [
      "/home/vsankar/pyenvs/LungCancer/lib/python2.7/site-packages/ipykernel/__main__.py:73: UserWarning: Update your `Conv2D` call to the Keras 2 API: `Conv2D(32, (3, 3), kernel_initializer=\"orthogonal\", activation=\"relu\", input_shape=(1, 96, 96..., padding=\"same\", use_bias=True)`\n",
      "/home/vsankar/pyenvs/LungCancer/lib/python2.7/site-packages/ipykernel/__main__.py:78: UserWarning: Update your `Conv2D` call to the Keras 2 API: `Conv2D(32, (3, 3), kernel_initializer=\"orthogonal\", activation=\"relu\", padding=\"same\", use_bias=True)`\n",
      "/home/vsankar/pyenvs/LungCancer/lib/python2.7/site-packages/ipykernel/__main__.py:83: UserWarning: Update your `Conv2D` call to the Keras 2 API: `Conv2D(32, (3, 3), kernel_initializer=\"orthogonal\", activation=\"relu\", padding=\"same\", use_bias=True)`\n",
      "/home/vsankar/pyenvs/LungCancer/lib/python2.7/site-packages/ipykernel/__main__.py:85: UserWarning: Update your `Conv2D` call to the Keras 2 API: `Conv2D(64, (3, 3), kernel_initializer=\"orthogonal\", activation=\"relu\", padding=\"same\", use_bias=True)`\n",
      "/home/vsankar/pyenvs/LungCancer/lib/python2.7/site-packages/ipykernel/__main__.py:90: UserWarning: Update your `Conv2D` call to the Keras 2 API: `Conv2D(64, (3, 3), kernel_initializer=\"orthogonal\", activation=\"relu\", padding=\"same\", use_bias=True)`\n",
      "/home/vsankar/pyenvs/LungCancer/lib/python2.7/site-packages/ipykernel/__main__.py:95: UserWarning: Update your `Conv2D` call to the Keras 2 API: `Conv2D(64, (3, 3), kernel_initializer=\"orthogonal\", activation=\"relu\", padding=\"same\", use_bias=True)`\n",
      "/home/vsankar/pyenvs/LungCancer/lib/python2.7/site-packages/ipykernel/__main__.py:97: UserWarning: Update your `Conv2D` call to the Keras 2 API: `Conv2D(96, (3, 3), kernel_initializer=\"orthogonal\", activation=\"relu\", padding=\"same\", use_bias=True)`\n",
      "/home/vsankar/pyenvs/LungCancer/lib/python2.7/site-packages/ipykernel/__main__.py:102: UserWarning: Update your `Conv2D` call to the Keras 2 API: `Conv2D(96, (3, 3), kernel_initializer=\"orthogonal\", activation=\"relu\", padding=\"same\", use_bias=True)`\n",
      "/home/vsankar/pyenvs/LungCancer/lib/python2.7/site-packages/ipykernel/__main__.py:107: UserWarning: Update your `Conv2D` call to the Keras 2 API: `Conv2D(96, (3, 3), kernel_initializer=\"orthogonal\", activation=\"relu\", padding=\"same\", use_bias=True)`\n",
      "/home/vsankar/pyenvs/LungCancer/lib/python2.7/site-packages/ipykernel/__main__.py:109: UserWarning: Update your `Conv2D` call to the Keras 2 API: `Conv2D(128, (3, 3), kernel_initializer=\"orthogonal\", activation=\"relu\", padding=\"same\", use_bias=True)`\n",
      "/home/vsankar/pyenvs/LungCancer/lib/python2.7/site-packages/ipykernel/__main__.py:114: UserWarning: Update your `Conv2D` call to the Keras 2 API: `Conv2D(512, (1, 1), kernel_initializer=\"orthogonal\", activation=\"relu\", padding=\"same\", use_bias=True)`\n",
      "/home/vsankar/pyenvs/LungCancer/lib/python2.7/site-packages/ipykernel/__main__.py:119: UserWarning: Update your `Conv2D` call to the Keras 2 API: `Conv2D(2, (1, 1), kernel_initializer=\"orthogonal\", activation=\"relu\", padding=\"same\", use_bias=True)`\n",
      "/home/vsankar/pyenvs/LungCancer/lib/python2.7/site-packages/ipykernel/__main__.py:120: UserWarning: Update your `GlobalAveragePooling2D` call to the Keras 2 API: `GlobalAveragePooling2D(data_format=None)`\n"
     ]
    },
    {
     "name": "stdout",
     "output_type": "stream",
     "text": [
      "_________________________________________________________________\n",
      "Layer (type)                 Output Shape              Param #   \n",
      "=================================================================\n",
      "conv2d_25 (Conv2D)           (None, 32, 96, 96)        320       \n",
      "_________________________________________________________________\n",
      "batch_normalization_17 (Batc (None, 32, 96, 96)        128       \n",
      "_________________________________________________________________\n",
      "conv2d_26 (Conv2D)           (None, 32, 96, 96)        9248      \n",
      "_________________________________________________________________\n",
      "batch_normalization_18 (Batc (None, 32, 96, 96)        128       \n",
      "_________________________________________________________________\n",
      "conv2d_27 (Conv2D)           (None, 32, 96, 96)        9248      \n",
      "_________________________________________________________________\n",
      "max_pooling2d_7 (MaxPooling2 (None, 32, 48, 48)        0         \n",
      "_________________________________________________________________\n",
      "conv2d_28 (Conv2D)           (None, 64, 48, 48)        18496     \n",
      "_________________________________________________________________\n",
      "batch_normalization_19 (Batc (None, 64, 48, 48)        256       \n",
      "_________________________________________________________________\n",
      "conv2d_29 (Conv2D)           (None, 64, 48, 48)        36928     \n",
      "_________________________________________________________________\n",
      "batch_normalization_20 (Batc (None, 64, 48, 48)        256       \n",
      "_________________________________________________________________\n",
      "conv2d_30 (Conv2D)           (None, 64, 48, 48)        36928     \n",
      "_________________________________________________________________\n",
      "max_pooling2d_8 (MaxPooling2 (None, 64, 24, 24)        0         \n",
      "_________________________________________________________________\n",
      "conv2d_31 (Conv2D)           (None, 96, 24, 24)        55392     \n",
      "_________________________________________________________________\n",
      "batch_normalization_21 (Batc (None, 96, 24, 24)        384       \n",
      "_________________________________________________________________\n",
      "conv2d_32 (Conv2D)           (None, 96, 24, 24)        83040     \n",
      "_________________________________________________________________\n",
      "batch_normalization_22 (Batc (None, 96, 24, 24)        384       \n",
      "_________________________________________________________________\n",
      "conv2d_33 (Conv2D)           (None, 96, 24, 24)        83040     \n",
      "_________________________________________________________________\n",
      "max_pooling2d_9 (MaxPooling2 (None, 96, 12, 12)        0         \n",
      "_________________________________________________________________\n",
      "conv2d_34 (Conv2D)           (None, 128, 12, 12)       110720    \n",
      "_________________________________________________________________\n",
      "batch_normalization_23 (Batc (None, 128, 12, 12)       512       \n",
      "_________________________________________________________________\n",
      "conv2d_35 (Conv2D)           (None, 512, 12, 12)       66048     \n",
      "_________________________________________________________________\n",
      "batch_normalization_24 (Batc (None, 512, 12, 12)       2048      \n",
      "_________________________________________________________________\n",
      "conv2d_36 (Conv2D)           (None, 2, 12, 12)         1026      \n",
      "_________________________________________________________________\n",
      "global_average_pooling2d_3 ( (None, 2)                 0         \n",
      "_________________________________________________________________\n",
      "activation_3 (Activation)    (None, 2)                 0         \n",
      "=================================================================\n",
      "Total params: 514,530\n",
      "Trainable params: 512,482\n",
      "Non-trainable params: 2,048\n",
      "_________________________________________________________________\n"
     ]
    }
   ],
   "source": [
    "#!/usr/bin/env python3\n",
    "# code to replicate the performance of the NIPS'16 MLHC workshop paper \"Cam CNNS predict anatomy?\"\n",
    "\n",
    "from __future__ import absolute_import\n",
    "from __future__ import print_function\n",
    "\n",
    "import os\n",
    "import csv\n",
    "import six\n",
    "\n",
    "import numpy as np\n",
    "import time\n",
    "import json\n",
    "import warnings\n",
    "\n",
    "from collections import deque\n",
    "from collections import OrderedDict\n",
    "from collections import Iterable\n",
    "\n",
    "# os.environ[\"THEANO_FLAGS\"] = \"device=gpu0,floatX=float32\" \n",
    "\n",
    "os.environ['KERAS_BACKEND'] = 'tensorflow'\n",
    "# os.environ[\n",
    "#     \"THEANO_FLAGS\"] = \"mode=FAST_RUN,device=gpu,floatX=float32,force_device=true\"#,lib.cnmem=0.7 ,nvcc.flags=-D_FORCE_INLINES\"\n",
    "import sys\n",
    "import numpy as np\n",
    "from keras import backend as K\n",
    "K.set_image_data_format('channels_first')\n",
    "#from keras.datasets import cifar10\n",
    "#keras.callbacks.Callback()\n",
    "from keras.preprocessing.image import ImageDataGenerator\n",
    "from keras.models import Sequential\n",
    "from keras.layers import Dense, Dropout, Activation, Flatten\n",
    "from keras.applications.vgg16 import VGG16\n",
    "from keras.preprocessing import image\n",
    "from keras.applications.vgg16 import preprocess_input\n",
    "from keras.layers.advanced_activations import LeakyReLU\n",
    "from keras.layers import Convolution2D, MaxPooling2D \n",
    "from keras.layers import GlobalAveragePooling2D\n",
    "from keras.layers.normalization import BatchNormalization as BN\n",
    "from keras.optimizers import Adam\n",
    "from keras.utils import np_utils\n",
    "from keras.models import model_from_json\n",
    "from keras.callbacks import ModelCheckpoint, Callback\n",
    "from keras.models import load_model\n",
    "from keras.datasets import mnist\n",
    "from scipy import io\n",
    "from IPython.core.debugger import Tracer\n",
    "import matplotlib.pyplot as plt\n",
    "\n",
    "\n",
    "def load_data():\n",
    "    data = np.load('/work/vsankar/Project-Luna/Train_nf_2_4_rotated_data.npz')\n",
    "    X_train = data['X_train']\n",
    "    Y_train = data['Y_train']\n",
    "    \n",
    "    data = np.load('/work/vsankar/Project-Luna/Test_nf_2_4_rotated_data.npz')\n",
    "    X_test = data['X_test']\n",
    "    Y_test = data['Y_test']    \n",
    "    \n",
    "    data = np.load('/work/vsankar/Project-Luna/Val_nf_2_4_rotated_data.npz')\n",
    "    X_val = data['X_val']\n",
    "    Y_val = data['Y_val']\n",
    "    \n",
    "    return X_train,Y_train,X_test,Y_test,X_val,Y_val\n",
    "\n",
    "                    \n",
    "def model_architecture(img_rows,img_cols,img_channels,nb_classes):\n",
    "    #function defining the architecture of defined CNN\n",
    "    \n",
    "    model = Sequential()\n",
    "\n",
    "    model.add(Convolution2D(32, 3, 3, activation='relu', border_mode='same',init='orthogonal', bias = True, input_shape=(img_channels,img_rows, img_cols)))\n",
    "\n",
    "    model.add(BN(axis=1, momentum=0.99, epsilon=0.001))\n",
    "    Dropout((0.25))\n",
    "\n",
    "    model.add(Convolution2D(32, 3, 3, activation='relu', border_mode='same',init='orthogonal', bias = True))\n",
    "\n",
    "    model.add(BN(axis=1, momentum=0.99, epsilon=0.00001))\n",
    "    Dropout((0.25))\n",
    "\n",
    "    model.add(Convolution2D(32, 3, 3, activation='relu', border_mode='same',init='orthogonal', bias = True))\n",
    "    model.add(MaxPooling2D(pool_size=(2, 2), strides = (2,2)))\n",
    "    model.add(Convolution2D(64, 3, 3, activation='relu', border_mode='same',init='orthogonal', bias = True))\n",
    "\n",
    "    model.add(BN(axis=1, momentum=0.99, epsilon=0.001))\n",
    "    Dropout((0.25))\n",
    "\n",
    "    model.add(Convolution2D(64, 3, 3, activation='relu', border_mode='same',init='orthogonal', bias = True))\n",
    "\n",
    "    model.add(BN(axis=1, momentum=0.99, epsilon=0.001))\n",
    "    Dropout((0.25))\n",
    "\n",
    "    model.add(Convolution2D(64, 3, 3, activation='relu', border_mode='same',init='orthogonal', bias = True))\n",
    "    model.add(MaxPooling2D(pool_size=(2, 2), strides = (2,2)))\n",
    "    model.add(Convolution2D(96, 3, 3, activation='relu', border_mode='same',init='orthogonal', bias = True))\n",
    "\n",
    "    model.add(BN(axis=1, momentum=0.99, epsilon=0.001))\n",
    "    Dropout((0.25))\n",
    "\n",
    "    model.add(Convolution2D(96, 3, 3, activation='relu', border_mode='same',init='orthogonal', bias = True))\n",
    "\n",
    "    model.add(BN(axis=1, momentum=0.99, epsilon=0.001))\n",
    "    Dropout((0.25))\n",
    "\n",
    "    model.add(Convolution2D(96, 3, 3, activation='relu', border_mode='same',init='orthogonal', bias = True))\n",
    "    model.add(MaxPooling2D(pool_size=(2, 2), strides = (2,2)))\n",
    "    model.add(Convolution2D(128, 3, 3, activation='relu', border_mode='same',init='orthogonal', bias = True))\n",
    "\n",
    "    model.add(BN(axis=1, momentum=0.99, epsilon=0.001))\n",
    "    Dropout((0.5))\n",
    "\n",
    "    model.add(Convolution2D(512, 1, 1, activation='relu', border_mode='same',init='orthogonal', bias = True))\n",
    "    \n",
    "    model.add(BN(axis=1, momentum=0.99, epsilon=0.001))\n",
    "    Dropout((0.5))\n",
    "\n",
    "    model.add(Convolution2D(2, 1, 1, activation='relu', border_mode='same',init='orthogonal', bias = True))\n",
    "    model.add(GlobalAveragePooling2D(dim_ordering='default'))\n",
    "\n",
    "    model.add(Activation('softmax'))\n",
    "    model.summary()\n",
    "    return model\n",
    "\n",
    "\n",
    "def normalize_date(X_train,Y_train,X_test,Y_test,X_val, Y_val,nb_classes):\n",
    "    print('X_train shape:', X_train.shape)\n",
    "    print(X_train.shape[0], 'train samples')\n",
    "    print(X_test.shape[0], 'test samples')\n",
    "    print(X_val.shape[0], 'val samples')\n",
    "    \n",
    "    X_train = X_train.astype('float32')\n",
    "    X_test = X_test.astype('float32')\n",
    "    X_val = X_val.astype('float32')\n",
    "    \n",
    "    Y_train = Y_train.astype('float32')\n",
    "    Y_test = Y_test.astype('float32')\n",
    "    Y_val = Y_val.astype('float32')\n",
    "\n",
    "#     normalizing the data\n",
    "    X_train /= 4095.0   \n",
    "    X_test /= 4095.0\n",
    "    X_val /= 4095.0\n",
    "    \n",
    "    #std\n",
    "#     X_train = X_train/np.std(X_train) - np.mean(X_train)\n",
    "#     X_test = X_test/np.std(X_test) - np.mean(X_test)\n",
    "    \n",
    "#     Tracer()()\n",
    "    # convert class vectors to binary class matrices\n",
    "    Y_train = np_utils.to_categorical(Y_train, nb_classes)\n",
    "    Y_test = np_utils.to_categorical(Y_test, nb_classes)\n",
    "    Y_val = np_utils.to_categorical(Y_val, nb_classes)\n",
    "    \n",
    "    \n",
    "    return X_train,Y_train,X_test,Y_test,X_val,Y_val\n",
    "\n",
    "def run(batch_size,nb_classes,nb_epoch,data_augmentation,img_rows, img_cols,img_channels,model_name):\n",
    "\n",
    "    #load the model defined in model_architecture function\n",
    "    model = model_architecture(img_rows,img_cols,img_channels,nb_classes)\n",
    "\n",
    "#     training the model using SGD + momentum\n",
    "#     adm = Adam(lr=0.000001, beta_1=0.9, beta_2=0.999, epsilon=1e-08, decay=0.0)\n",
    "#     model.compile(loss='categorical_crossentropy',\n",
    "#                   optimizer=adm,\n",
    "#                   metrics=['accuracy'])\n",
    "\n",
    "  \n",
    "    modelPath = '/work/vsankar/Project-Luna/Luna_weights/'+model_name+'.hdf5'\n",
    "#     Tracer()()\n",
    "    model.load_weights(modelPath)\n",
    "#     Tracer()()\n",
    "#     model.predict( X_test, batch_size=None, verbose=0, steps=None)\n",
    "\n",
    "    return model\n",
    "\n",
    "        # serialize model to JSON\n",
    "        \n",
    "model_name = 'luna_weights_t_ae5_nt_b128_d25_BN1_d2_4_rotated_best'     \n",
    "batch_size = 50\n",
    "nb_classes = 2\n",
    "nb_epoch = 30\n",
    "data_augmentation = True\n",
    "# input image dimensions\n",
    "img_rows, img_cols = 96,96\n",
    "# the imgCLEF images are grey\n",
    "img_channels = 1\n",
    "model = run(batch_size,nb_classes,nb_epoch,data_augmentation,img_rows,img_cols,img_channels,model_name)\n",
    "# model_architecture(img_rows,img_cols,img_channels,nb_classes)"
   ]
  },
  {
   "cell_type": "code",
   "execution_count": 40,
   "metadata": {},
   "outputs": [
    {
     "name": "stdout",
     "output_type": "stream",
     "text": [
      "X_train shape: (37736, 1, 96, 96)\n",
      "37736 train samples\n",
      "4716 test samples\n",
      "4716 val samples\n",
      "num of samples in train = 37736 len(y=1/y=0) = 20917/16819\n",
      "num of samples in test = 4716 len(y=1/y=0) = 2668/2048\n",
      "num of samples in val = 4716 len(y=1/y=0) = 2658/2058\n"
     ]
    }
   ],
   "source": [
    "X_train,y_train,X_test,y_test,X_val,y_val = load_data()\n",
    "nb_classes=2\n",
    "X_train,Y_train,X_test,Y_test,X_val,Y_val = normalize_date(X_train,y_train,X_test,y_test,X_val,y_val,nb_classes)\n",
    "# np.save('/work/vsankar/Project-Luna/Test_data.npy', X_test,Y_test)\n",
    "\n",
    "print(\"num of samples in train = \"+ str(len(y_train))+\" len(y=1/y=0) = \"+str(len(np.where(y_train==1)[0])) + \"/\" +str(len(np.where(y_train==0)[0]))) \n",
    "print(\"num of samples in test = \"+ str(len(y_test))+\" len(y=1/y=0) = \"+str(len(np.where(y_test==1)[0])) + \"/\" +str(len(np.where(y_test==0)[0]) ))\n",
    "print(\"num of samples in val = \"+ str(len(y_val))+\" len(y=1/y=0) = \"+str(len(np.where(y_val==1)[0])) + \"/\" +str(len(np.where(y_val==0)[0]) ))\n",
    "\n"
   ]
  },
  {
   "cell_type": "code",
   "execution_count": 41,
   "metadata": {},
   "outputs": [],
   "source": [
    "X_testing = X_test\n",
    "Y_testing = Y_test\n",
    "y = model.predict( X_testing, batch_size=1, verbose=0)"
   ]
  },
  {
   "cell_type": "code",
   "execution_count": 30,
   "metadata": {
    "scrolled": true
   },
   "outputs": [
    {
     "name": "stdout",
     "output_type": "stream",
     "text": [
      "y=1 train\n",
      "20917\n",
      "y=0 train\n",
      "16819\n"
     ]
    }
   ],
   "source": []
  },
  {
   "cell_type": "code",
   "execution_count": 31,
   "metadata": {},
   "outputs": [
    {
     "data": {
      "text/plain": [
       "37736"
      ]
     },
     "execution_count": 31,
     "metadata": {},
     "output_type": "execute_result"
    }
   ],
   "source": []
  },
  {
   "cell_type": "code",
   "execution_count": 42,
   "metadata": {},
   "outputs": [
    {
     "name": "stdout",
     "output_type": "stream",
     "text": [
      "Threshold\n",
      "[0.1, 0.2, 0.3, 0.4, 0.5, 0.6, 0.7, 0.8, 0.9]\n",
      "sen_tpr\n",
      "[ 0.95071482  0.9386757   0.93190369  0.92626035  0.91986456  0.91271633\n",
      "  0.89917231  0.88788563  0.85477803]\n",
      "acc\n",
      "[ 0.87256149  0.88040712  0.88570823  0.89122137  0.89397795  0.89715861\n",
      "  0.89440204  0.89525021  0.88401187]\n",
      "spc_tnr\n",
      "[ 0.77162293  0.80515063  0.8260447   0.84596696  0.86054422  0.87706511\n",
      "  0.88824101  0.9047619   0.92176871]\n",
      "fnr\n",
      "[ 0.22837707  0.19484937  0.1739553   0.15403304  0.13945578  0.12293489\n",
      "  0.11175899  0.0952381   0.07823129]\n"
     ]
    }
   ],
   "source": [
    "from sklearn import metrics as m\n",
    "from IPython.core.debugger import Tracer;\n",
    "\n",
    "\n",
    "Threshold = [0.1,0.2,0.3,0.4,0.5,0.6,0.7,0.8,0.9]\n",
    "i=0\n",
    "sen_tpr=np.zeros(len(Threshold))\n",
    "spc_tnr=np.zeros(len(Threshold))\n",
    "acc=np.zeros(len(Threshold))\n",
    "tn=np.zeros(len(Threshold))\n",
    "fp=np.zeros(len(Threshold))\n",
    "fn=np.zeros(len(Threshold))\n",
    "tp= np.zeros(len(Threshold))\n",
    "fnr = np.zeros(len(Threshold))\n",
    "for t in Threshold:\n",
    "#      Tracer()() \n",
    "    y_pred = y.copy()\n",
    "    y_true = Y_testing\n",
    "    y_pred[y_pred>=t]=1\n",
    "#     Tracer()()\n",
    "    y_pred[y_pred<t] = 0\n",
    "    \n",
    "    cm = m.confusion_matrix(y_true[:,1], y_pred[:,1])\n",
    "#     Tracer()()\n",
    "    \n",
    "    tn[i], fp[i], fn[i], tp[i] = cm.ravel().astype('float32')\n",
    "    \n",
    "    \n",
    "    sen_tpr[i]=tp[i]/(tp[i]+fn[i])\n",
    "    spc_tnr[i] = tn[i]/(tn[i]+fp[i])\n",
    "    fnr[i] = fp[i]/(fp[i]+tn[i])\n",
    "    acc[i] = (tp[i] +tn[i])/(tn[i]+tp[i]+fp[i]+fn[i])\n",
    "#     from IPython.core.debugger import Tracer; Tracer()() \n",
    "    i=i+1\n",
    "    \n",
    "print(\"Threshold\")    \n",
    "print(Threshold)    \n",
    "\n",
    "print(\"sen_tpr\")    \n",
    "print(sen_tpr)\n",
    "\n",
    "print(\"acc\")    \n",
    "print(acc)\n",
    "\n",
    "print(\"spc_tnr\")    \n",
    "print(spc_tnr)\n",
    "\n",
    "print(\"fnr\")    \n",
    "print(fnr)"
   ]
  },
  {
   "cell_type": "code",
   "execution_count": 34,
   "metadata": {},
   "outputs": [
    {
     "data": {
      "text/plain": [
       "array([ 0.95314843,  0.9434033 ,  0.93628186,  0.92841079,  0.9197901 ,\n",
       "        0.9077961 ,  0.89767616,  0.88643178,  0.86844078])"
      ]
     },
     "execution_count": 34,
     "metadata": {},
     "output_type": "execute_result"
    }
   ],
   "source": [
    "sen_tpr\n"
   ]
  },
  {
   "cell_type": "code",
   "execution_count": 33,
   "metadata": {},
   "outputs": [
    {
     "data": {
      "text/plain": [
       "array([ 0.87616624,  0.88613232,  0.89270568,  0.89525021,  0.89609839,\n",
       "        0.89694656,  0.89673452,  0.89461408,  0.89334182])"
      ]
     },
     "execution_count": 33,
     "metadata": {},
     "output_type": "execute_result"
    }
   ],
   "source": [
    "acc"
   ]
  },
  {
   "cell_type": "code",
   "execution_count": 35,
   "metadata": {},
   "outputs": [
    {
     "data": {
      "text/plain": [
       "array([ 0.77587891,  0.81152344,  0.8359375 ,  0.85205078,  0.86523438,\n",
       "        0.8828125 ,  0.89550781,  0.90527344,  0.92578125])"
      ]
     },
     "execution_count": 35,
     "metadata": {},
     "output_type": "execute_result"
    }
   ],
   "source": [
    "spc_tnr"
   ]
  },
  {
   "cell_type": "code",
   "execution_count": 10,
   "metadata": {},
   "outputs": [
    {
     "data": {
      "text/plain": [
       "[0.1, 0.2, 0.3, 0.4, 0.5, 0.6, 0.7, 0.8, 0.9]"
      ]
     },
     "execution_count": 10,
     "metadata": {},
     "output_type": "execute_result"
    }
   ],
   "source": [
    "Threshold"
   ]
  },
  {
   "cell_type": "code",
   "execution_count": 22,
   "metadata": {},
   "outputs": [
    {
     "data": {
      "text/plain": [
       "array([ 0.22412109,  0.18847656,  0.1640625 ,  0.14794922,  0.13476562,\n",
       "        0.1171875 ,  0.10449219,  0.09472656,  0.07421875])"
      ]
     },
     "execution_count": 22,
     "metadata": {},
     "output_type": "execute_result"
    }
   ],
   "source": [
    "fnr\n"
   ]
  },
  {
   "cell_type": "code",
   "execution_count": 15,
   "metadata": {},
   "outputs": [
    {
     "data": {
      "image/png": "[encoded data removed]",
      "text/plain": [
       "<matplotlib.figure.Figure at 0x2b4c64b78f90>"
      ]
     },
     "metadata": {},
     "output_type": "display_data"
    }
   ],
   "source": [
    "from matplotlib import pyplot as plt\n",
    "plt.plot(sen_tpr,fnr)\n",
    "plt.show()"
   ]
  },
  {
   "cell_type": "code",
   "execution_count": null,
   "metadata": {},
   "outputs": [],
   "source": []
  }
 ],
 "metadata": {
  "kernelspec": {
   "display_name": "Python (Lunch Cancer)",
   "language": "python",
   "name": "lung-cancer"
  },
  "language_info": {
   "codemirror_mode": {
    "name": "ipython",
    "version": 2
   },
   "file_extension": ".py",
   "mimetype": "text/x-python",
   "name": "python",
   "nbconvert_exporter": "python",
   "pygments_lexer": "ipython2",
   "version": "2.7.8"
  }
 },
 "nbformat": 4,
 "nbformat_minor": 2
}
