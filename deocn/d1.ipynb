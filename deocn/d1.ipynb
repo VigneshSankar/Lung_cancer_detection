{
 "cells": [
  {
   "cell_type": "code",
   "execution_count": 5,
   "metadata": {},
   "outputs": [
    {
     "name": "stderr",
     "output_type": "stream",
     "text": [
      "Using Theano backend.\n"
     ]
    },
    {
     "ename": "AttributeError",
     "evalue": "'module' object has no attribute 'tests'",
     "output_type": "error",
     "traceback": [
      "\u001b[0;31m\u001b[0m",
      "\u001b[0;31mAttributeError\u001b[0mTraceback (most recent call last)",
      "\u001b[0;32m<ipython-input-5-96cb8e26c1de>\u001b[0m in \u001b[0;36m<module>\u001b[0;34m()\u001b[0m\n\u001b[1;32m     26\u001b[0m \u001b[0;32mimport\u001b[0m \u001b[0msys\u001b[0m\u001b[0;34m\u001b[0m\u001b[0m\n\u001b[1;32m     27\u001b[0m \u001b[0;32mimport\u001b[0m \u001b[0mnumpy\u001b[0m \u001b[0;32mas\u001b[0m \u001b[0mnp\u001b[0m\u001b[0;34m\u001b[0m\u001b[0m\n\u001b[0;32m---> 28\u001b[0;31m \u001b[0;32mfrom\u001b[0m \u001b[0mkeras\u001b[0m \u001b[0;32mimport\u001b[0m \u001b[0mbackend\u001b[0m \u001b[0;32mas\u001b[0m \u001b[0mK\u001b[0m\u001b[0;34m\u001b[0m\u001b[0m\n\u001b[0m\u001b[1;32m     29\u001b[0m \u001b[0mK\u001b[0m\u001b[0;34m.\u001b[0m\u001b[0mset_image_dim_ordering\u001b[0m\u001b[0;34m(\u001b[0m\u001b[0;34m'th'\u001b[0m\u001b[0;34m)\u001b[0m\u001b[0;34m\u001b[0m\u001b[0m\n\u001b[1;32m     30\u001b[0m \u001b[0;31m# K.set_image_data_format('channels_first')\u001b[0m\u001b[0;34m\u001b[0m\u001b[0;34m\u001b[0m\u001b[0m\n",
      "\u001b[0;32m/home/vsankar/pyenvs/LungCancerEnv/lib/python2.7/site-packages/keras/__init__.py\u001b[0m in \u001b[0;36m<module>\u001b[0;34m()\u001b[0m\n\u001b[1;32m      1\u001b[0m \u001b[0;32mfrom\u001b[0m \u001b[0m__future__\u001b[0m \u001b[0;32mimport\u001b[0m \u001b[0mabsolute_import\u001b[0m\u001b[0;34m\u001b[0m\u001b[0m\n\u001b[0;32m----> 2\u001b[0;31m \u001b[0;32mfrom\u001b[0m \u001b[0;34m.\u001b[0m \u001b[0;32mimport\u001b[0m \u001b[0mbackend\u001b[0m\u001b[0;34m\u001b[0m\u001b[0m\n\u001b[0m\u001b[1;32m      3\u001b[0m \u001b[0;32mfrom\u001b[0m \u001b[0;34m.\u001b[0m \u001b[0;32mimport\u001b[0m \u001b[0mdatasets\u001b[0m\u001b[0;34m\u001b[0m\u001b[0m\n\u001b[1;32m      4\u001b[0m \u001b[0;32mfrom\u001b[0m \u001b[0;34m.\u001b[0m \u001b[0;32mimport\u001b[0m \u001b[0mengine\u001b[0m\u001b[0;34m\u001b[0m\u001b[0m\n\u001b[1;32m      5\u001b[0m \u001b[0;32mfrom\u001b[0m \u001b[0;34m.\u001b[0m \u001b[0;32mimport\u001b[0m \u001b[0mlayers\u001b[0m\u001b[0;34m\u001b[0m\u001b[0m\n",
      "\u001b[0;32m/home/vsankar/pyenvs/LungCancerEnv/lib/python2.7/site-packages/keras/backend/__init__.py\u001b[0m in \u001b[0;36m<module>\u001b[0;34m()\u001b[0m\n\u001b[1;32m     62\u001b[0m \u001b[0;32mif\u001b[0m \u001b[0m_BACKEND\u001b[0m \u001b[0;34m==\u001b[0m \u001b[0;34m'theano'\u001b[0m\u001b[0;34m:\u001b[0m\u001b[0;34m\u001b[0m\u001b[0m\n\u001b[1;32m     63\u001b[0m     \u001b[0msys\u001b[0m\u001b[0;34m.\u001b[0m\u001b[0mstderr\u001b[0m\u001b[0;34m.\u001b[0m\u001b[0mwrite\u001b[0m\u001b[0;34m(\u001b[0m\u001b[0;34m'Using Theano backend.\\n'\u001b[0m\u001b[0;34m)\u001b[0m\u001b[0;34m\u001b[0m\u001b[0m\n\u001b[0;32m---> 64\u001b[0;31m     \u001b[0;32mfrom\u001b[0m \u001b[0;34m.\u001b[0m\u001b[0mtheano_backend\u001b[0m \u001b[0;32mimport\u001b[0m \u001b[0;34m*\u001b[0m\u001b[0;34m\u001b[0m\u001b[0m\n\u001b[0m\u001b[1;32m     65\u001b[0m \u001b[0;32melif\u001b[0m \u001b[0m_BACKEND\u001b[0m \u001b[0;34m==\u001b[0m \u001b[0;34m'tensorflow'\u001b[0m\u001b[0;34m:\u001b[0m\u001b[0;34m\u001b[0m\u001b[0m\n\u001b[1;32m     66\u001b[0m     \u001b[0msys\u001b[0m\u001b[0;34m.\u001b[0m\u001b[0mstderr\u001b[0m\u001b[0;34m.\u001b[0m\u001b[0mwrite\u001b[0m\u001b[0;34m(\u001b[0m\u001b[0;34m'Using TensorFlow backend.\\n'\u001b[0m\u001b[0;34m)\u001b[0m\u001b[0;34m\u001b[0m\u001b[0m\n",
      "\u001b[0;32m/home/vsankar/pyenvs/LungCancerEnv/lib/python2.7/site-packages/keras/backend/theano_backend.py\u001b[0m in \u001b[0;36m<module>\u001b[0;34m()\u001b[0m\n\u001b[0;32m----> 1\u001b[0;31m \u001b[0;32mimport\u001b[0m \u001b[0mtheano\u001b[0m\u001b[0;34m\u001b[0m\u001b[0m\n\u001b[0m\u001b[1;32m      2\u001b[0m \u001b[0;32mfrom\u001b[0m \u001b[0mtheano\u001b[0m \u001b[0;32mimport\u001b[0m \u001b[0mtensor\u001b[0m \u001b[0;32mas\u001b[0m \u001b[0mT\u001b[0m\u001b[0;34m\u001b[0m\u001b[0m\n\u001b[1;32m      3\u001b[0m \u001b[0;32mfrom\u001b[0m \u001b[0mtheano\u001b[0m\u001b[0;34m.\u001b[0m\u001b[0msandbox\u001b[0m\u001b[0;34m.\u001b[0m\u001b[0mrng_mrg\u001b[0m \u001b[0;32mimport\u001b[0m \u001b[0mMRG_RandomStreams\u001b[0m \u001b[0;32mas\u001b[0m \u001b[0mRandomStreams\u001b[0m\u001b[0;34m\u001b[0m\u001b[0m\n\u001b[1;32m      4\u001b[0m \u001b[0;32mfrom\u001b[0m \u001b[0mtheano\u001b[0m\u001b[0;34m.\u001b[0m\u001b[0mtensor\u001b[0m\u001b[0;34m.\u001b[0m\u001b[0msignal\u001b[0m \u001b[0;32mimport\u001b[0m \u001b[0mpool\u001b[0m\u001b[0;34m\u001b[0m\u001b[0m\n\u001b[1;32m      5\u001b[0m \u001b[0;32mfrom\u001b[0m \u001b[0mtheano\u001b[0m\u001b[0;34m.\u001b[0m\u001b[0mtensor\u001b[0m\u001b[0;34m.\u001b[0m\u001b[0mnnet\u001b[0m \u001b[0;32mimport\u001b[0m \u001b[0mconv3d2d\u001b[0m\u001b[0;34m\u001b[0m\u001b[0m\n",
      "\u001b[0;32m/home/vsankar/pyenvs/LungCancerEnv/lib/python2.7/site-packages/theano/__init__.pyc\u001b[0m in \u001b[0;36m<module>\u001b[0;34m()\u001b[0m\n\u001b[1;32m     93\u001b[0m \u001b[0;31m# needed during that phase.\u001b[0m\u001b[0;34m\u001b[0m\u001b[0;34m\u001b[0m\u001b[0m\n\u001b[1;32m     94\u001b[0m \u001b[0;32mimport\u001b[0m \u001b[0mtheano\u001b[0m\u001b[0;34m.\u001b[0m\u001b[0mtests\u001b[0m\u001b[0;34m\u001b[0m\u001b[0m\n\u001b[0;32m---> 95\u001b[0;31m \u001b[0;32mif\u001b[0m \u001b[0mhasattr\u001b[0m\u001b[0;34m(\u001b[0m\u001b[0mtheano\u001b[0m\u001b[0;34m.\u001b[0m\u001b[0mtests\u001b[0m\u001b[0;34m,\u001b[0m \u001b[0;34m\"TheanoNoseTester\"\u001b[0m\u001b[0;34m)\u001b[0m\u001b[0;34m:\u001b[0m\u001b[0;34m\u001b[0m\u001b[0m\n\u001b[0m\u001b[1;32m     96\u001b[0m     \u001b[0mtest\u001b[0m \u001b[0;34m=\u001b[0m \u001b[0mtheano\u001b[0m\u001b[0;34m.\u001b[0m\u001b[0mtests\u001b[0m\u001b[0;34m.\u001b[0m\u001b[0mTheanoNoseTester\u001b[0m\u001b[0;34m(\u001b[0m\u001b[0;34m)\u001b[0m\u001b[0;34m.\u001b[0m\u001b[0mtest\u001b[0m\u001b[0;34m\u001b[0m\u001b[0m\n\u001b[1;32m     97\u001b[0m \u001b[0;32melse\u001b[0m\u001b[0;34m:\u001b[0m\u001b[0;34m\u001b[0m\u001b[0m\n",
      "\u001b[0;31mAttributeError\u001b[0m: 'module' object has no attribute 'tests'"
     ]
    }
   ],
   "source": [
    "\n",
    "from __future__ import absolute_import\n",
    "from __future__ import print_function\n",
    "\n",
    "import os\n",
    "import csv\n",
    "import six\n",
    "\n",
    "import numpy as np\n",
    "import time\n",
    "import json\n",
    "import warnings\n",
    "\n",
    "from collections import deque\n",
    "from collections import OrderedDict\n",
    "from collections import Iterable\n",
    "\n",
    "# os.environ[\"THEANO_FLAGS\"] = \"device=gpu,floatX=float32\" \n",
    "# os.environ[\n",
    "#     \"THEANO_FLAGS\"] = \"mode=FAST_RUN,device=gpu0,floatX=float32,force_device=true,exception_verbosity=high,lib.cnmem=0.9 ,nvcc.flags=-D_FORCE_INLINES\"\n",
    "# os.environ[\n",
    "#     \"THEANO_FLAGS\"] = \"mode=FAST_RUN,device=cuda,floatX=float32,force_device=true,nvcc.flags=-D_FORCE_INLINES\"\n",
    "\n",
    "os.environ['KERAS_BACKEND'] = 'theano'\n",
    "\n",
    "import sys\n",
    "import numpy as np\n",
    "from keras import backend as K\n",
    "K.set_image_dim_ordering('th')\n",
    "# K.set_image_data_format('channels_first')\n",
    "#from keras.datasets import cifar10\n",
    "#keras.callbacks.Callback()\n",
    "from keras.preprocessing.image import ImageDataGenerator\n",
    "from keras.models import Sequential\n",
    "from keras.layers import Dense, Dropout, Activation, Flatten\n",
    "from keras.applications.vgg16 import VGG16\n",
    "from keras.preprocessing import image\n",
    "from keras.applications.vgg16 import preprocess_input\n",
    "from keras.layers.advanced_activations import LeakyReLU\n",
    "from keras.layers import Convolution2D, MaxPooling2D \n",
    "from keras.layers import GlobalAveragePooling2D\n",
    "from keras.layers.normalization import BatchNormalization as BN\n",
    "from keras.optimizers import Adam\n",
    "from keras.utils import np_utils\n",
    "from keras.models import model_from_json\n",
    "from keras.callbacks import ModelCheckpoint, Callback\n",
    "from keras.datasets import mnist\n",
    "from scipy import io\n",
    "from IPython.core.debugger import Tracer\n",
    "import matplotlib.pyplot as plt\n",
    "from keras import metrics\n",
    "import numpy as np\n",
    "\n",
    "import keras.backend as K"
   ]
  },
  {
   "cell_type": "code",
   "execution_count": null,
   "metadata": {},
   "outputs": [],
   "source": [
    "%matplotlib notebook\n",
    "import matplotlib.pyplot as plt\n",
    "import numpy as np\n",
    "from IPython.core.debugger import Tracer\n",
    "\n"
   ]
  },
  {
   "cell_type": "code",
   "execution_count": null,
   "metadata": {},
   "outputs": [],
   "source": [
    "def model_architecture(img_rows,img_cols,img_channels,nb_classes):\n",
    "    #function defining the architecture of defined CNN\n",
    "    \n",
    "    model = Sequential()\n",
    "\n",
    "    model.add(Convolution2D(32, 3, 3, activation='relu', border_mode='same',init='orthogonal', bias = True, input_shape=(img_channels,img_rows, img_cols)))\n",
    "\n",
    "    model.add(BN(axis=1, momentum=0.99, epsilon=0.001))\n",
    "    Dropout((0.25))\n",
    "\n",
    "    model.add(Convolution2D(32, 3, 3, activation='relu', border_mode='same',init='orthogonal', bias = True))\n",
    "\n",
    "    model.add(BN(axis=1, momentum=0.99, epsilon=0.001))\n",
    "    Dropout((0.25))\n",
    "\n",
    "    model.add(Convolution2D(32, 3, 3, activation='relu', border_mode='same',init='orthogonal', bias = True))\n",
    "    model.add(MaxPooling2D(pool_size=(2, 2), strides = (2,2)))\n",
    "    model.add(Convolution2D(64, 3, 3, activation='relu', border_mode='same',init='orthogonal', bias = True))\n",
    "\n",
    "    model.add(BN(axis=1, momentum=0.99, epsilon=0.001))\n",
    "    Dropout((0.25))\n",
    "\n",
    "    model.add(Convolution2D(64, 3, 3, activation='relu', border_mode='same',init='orthogonal', bias = True))\n",
    "\n",
    "    model.add(BN(axis=1, momentum=0.99, epsilon=0.001))\n",
    "    Dropout((0.25))\n",
    "\n",
    "    model.add(Convolution2D(64, 3, 3, activation='relu', border_mode='same',init='orthogonal', bias = True))\n",
    "    model.add(MaxPooling2D(pool_size=(2, 2), strides = (2,2)))\n",
    "    model.add(Convolution2D(96, 3, 3, activation='relu', border_mode='same',init='orthogonal', bias = True))\n",
    "\n",
    "    model.add(BN(axis=1, momentum=0.99, epsilon=0.001))\n",
    "    Dropout((0.25))\n",
    "\n",
    "    model.add(Convolution2D(96, 3, 3, activation='relu', border_mode='same',init='orthogonal', bias = True))\n",
    "\n",
    "    model.add(BN(axis=1, momentum=0.99, epsilon=0.001))\n",
    "    Dropout((0.25))\n",
    "\n",
    "    model.add(Convolution2D(96, 3, 3, activation='relu', border_mode='same',init='orthogonal', bias = True))\n",
    "    model.add(MaxPooling2D(pool_size=(2, 2), strides = (2,2)))\n",
    "    model.add(Convolution2D(128, 3, 3, activation='relu', border_mode='same',init='orthogonal', bias = True))\n",
    "\n",
    "    model.add(BN(axis=1, momentum=0.99, epsilon=0.001))\n",
    "    Dropout((0.5))\n",
    "\n",
    "    model.add(Convolution2D(512, 1, 1, activation='relu', border_mode='same',init='orthogonal', bias = True))\n",
    "\n",
    "    model.add(BN(axis=1, momentum=0.99, epsilon=0.001))\n",
    "    Dropout((0.5))\n",
    "\n",
    "    model.add(Convolution2D(2, 1, 1, activation='relu', border_mode='same',init='orthogonal', bias = True))\n",
    "    model.add(GlobalAveragePooling2D(dim_ordering='default'))\n",
    "\n",
    "    model.add(Activation('softmax'))\n",
    "#     model.summary()\n",
    "    return model\n",
    "\n",
    "\n",
    "def normalize_date(X,Y,nb_classes):\n",
    "    X = X.astype('float32')\n",
    "    Y = Y.astype('float32')\n",
    "\n",
    "#     normalizing the data\n",
    "    X /= 4095.0   \n",
    "    Y = np_utils.to_categorical(Y, nb_classes)\n",
    "    return X,Y\n"
   ]
  },
  {
   "cell_type": "code",
   "execution_count": null,
   "metadata": {},
   "outputs": [],
   "source": [
    "def get_categorical_accuracy_keras(y_true, y_pred):\n",
    "    return K.mean(K.equal(K.argmax(y_true, axis=1), K.argmax(y_pred, axis=1)))"
   ]
  },
  {
   "cell_type": "code",
   "execution_count": null,
   "metadata": {},
   "outputs": [],
   "source": [
    "nb_classes = 2\n",
    "img_rows, img_cols = 96,96\n",
    "img_channels = 1\n",
    "\n",
    "decon = np.load('/work/vsankar/Project-Luna/data/lung_decon/binary_heatmap_output_val_data_net_val_acc_92.5.npy')\n",
    "X = np.load('/work/vsankar/Project-Luna/data/lung_decon/Val_nf_n_0_rotated_data.npz_FILES/X_val.npy')\n",
    "Y = np.load('/work/vsankar/Project-Luna/data/lung_decon/Val_nf_n_0_rotated_data.npz_FILES/Y_val.npy')\n",
    "\n",
    "X,Y = normalize_date(X,Y,nb_classes)\n",
    "\n",
    "model_name = 'luna_weights_t_ae5_nt_b128_d25_BN1_d3_3_rotated_best_dev_new'\n",
    "modelPath = '/work/vsankar/Project-Luna/data/lung_decon/best_weights_test_acc_92.5/'+model_name+'.hdf5'\n",
    "\n",
    "model = model_architecture(img_rows,img_cols,img_channels,nb_classes)\n",
    "model.load_weights(modelPath)\n",
    "\n",
    "# training the model using SGD + momentum\n",
    "adm = Adam(lr=0.000001, beta_1=0.9, beta_2=0.999, epsilon=1e-08, decay=0.0)\n",
    "model.compile(loss='categorical_crossentropy',\n",
    "              optimizer=adm,\n",
    "              metrics=[get_categorical_accuracy_keras])"
   ]
  },
  {
   "cell_type": "code",
   "execution_count": null,
   "metadata": {},
   "outputs": [],
   "source": [
    "decon.shape"
   ]
  },
  {
   "cell_type": "code",
   "execution_count": null,
   "metadata": {},
   "outputs": [],
   "source": [
    "len(Y[np.where(Y[:,0]==0)])"
   ]
  },
  {
   "cell_type": "code",
   "execution_count": null,
   "metadata": {},
   "outputs": [],
   "source": [
    "len(Y[np.where(Y[:,0]==1)])"
   ]
  },
  {
   "cell_type": "code",
   "execution_count": null,
   "metadata": {},
   "outputs": [],
   "source": [
    "Y[1]"
   ]
  },
  {
   "cell_type": "code",
   "execution_count": null,
   "metadata": {},
   "outputs": [],
   "source": [
    "X.shape"
   ]
  },
  {
   "cell_type": "code",
   "execution_count": null,
   "metadata": {},
   "outputs": [],
   "source": [
    "# score = model.evaluate(X,Y,verbose=0)\n",
    "# print (score)\n",
    "# print ('test_accuracy is : ', score[1])\n",
    "pred = model.predict(X)\n",
    "y_pred = []\n",
    "y_true_label =[]\n",
    "for p in pred:\n",
    "    y_pred.append(np.argmax(p))\n",
    "for l in Y:\n",
    "    y_true_label.append(np.argmax(l))\n",
    "\n",
    "# print (classification_report(y_true_label,y_pred))\n",
    "# print (roc_auc_score(y_true_label,y_pred))"
   ]
  },
  {
   "cell_type": "code",
   "execution_count": null,
   "metadata": {},
   "outputs": [],
   "source": [
    "deconX = np.zeros_like(decon)\n",
    "for idx in range(len(Y)):\n",
    "    # multiply\n",
    "    deconX[idx,0,0,:,:] = np.multiply(X[idx,0,:,:],decon[idx,0,0,:,:])\n",
    "    deconX[idx,1,0,:,:] = np.multiply(X[idx, 0, :, :], decon[idx, 1, 0, :, :])\n",
    "  \n",
    "    y_predict = model.predict(X[idx:idx+1,:,:,:])\n",
    "#     Tracer()()\n",
    "    plt.subplot(1, 3, 1)\n",
    "    plt.imshow(X[idx,0,:,:])\n",
    "    plt.title('X'+' Y = '+ str(int(Y[idx])))\n",
    "\n",
    "    plt.subplot(1,3,2)\n",
    "    plt.imshow(decon[idx,0,0,:,:])\n",
    "    plt.title('d0 Y_p=' + str(int(y_predict[0][0])))\n",
    "\n",
    "    plt.subplot(1,3,3)\n",
    "    plt.imshow(decon[idx,1,0,:,:])\n",
    "    plt.title('d1 Y_p=' + str(int(y_predict[0][0])))\n",
    "    plt.show()\n",
    "    \n",
    "#     Tracer()()\n",
    "    savefigure = '/work/vsankar/Project-Luna/data/lung_decon/images/decon_comparison_' + str(idx) + '.png'\n",
    "    plt.savefig(savefigure)\n",
    "#     Tracer()()\n",
    "    a=1\n",
    "np.savez('/work/vsankar/Project-Luna/data/lung_decon/deconX',deconX =  deconX)"
   ]
  },
  {
   "cell_type": "code",
   "execution_count": null,
   "metadata": {},
   "outputs": [],
   "source": [
    "plt.imshow(deconX[3000,1,0,:,:])\n"
   ]
  },
  {
   "cell_type": "code",
   "execution_count": null,
   "metadata": {},
   "outputs": [],
   "source": [
    "np.savez('/work/vsankar/Project-Luna/Train_all_dA_0for9k_1for0_rotated_data',X_train =  X_train,Y_train = Y_train)"
   ]
  },
  {
   "cell_type": "code",
   "execution_count": null,
   "metadata": {},
   "outputs": [],
   "source": [
    "plt.subplot(1,3,1)\n",
    "plt.imshow(X[idx,0,:,:])\n",
    "\n",
    "plt.subplot(1,3,2)\n",
    "plt.imshow(decon[idx,0,0,:,:])\n",
    "\n",
    "plt.subplot(1,3,3)\n",
    "plt.imshow(decon[idx,1,0,:,:])\n",
    "plt.show()"
   ]
  },
  {
   "cell_type": "code",
   "execution_count": null,
   "metadata": {},
   "outputs": [],
   "source": []
  }
 ],
 "metadata": {
  "kernelspec": {
   "display_name": "Python LCNEW",
   "language": "python",
   "name": "lungcancerenv"
  },
  "language_info": {
   "codemirror_mode": {
    "name": "ipython",
    "version": 2
   },
   "file_extension": ".py",
   "mimetype": "text/x-python",
   "name": "python",
   "nbconvert_exporter": "python",
   "pygments_lexer": "ipython2",
   "version": "2.7.8"
  }
 },
 "nbformat": 4,
 "nbformat_minor": 2
}
