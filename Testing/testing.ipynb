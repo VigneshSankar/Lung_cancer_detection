{
 "cells": [
  {
   "cell_type": "code",
   "execution_count": 6,
   "metadata": {},
   "outputs": [
    {
     "name": "stdout",
     "output_type": "stream",
     "text": [
      "Loading and formatiing of data complete...\n"
     ]
    },
    {
     "name": "stderr",
     "output_type": "stream",
     "text": [
      "/home/vsankar/pyenvs/LungCancer/lib/python2.7/site-packages/ipykernel/__main__.py:71: UserWarning: Update your `Conv2D` call to the Keras 2 API: `Conv2D(32, (3, 3), kernel_initializer=\"orthogonal\", activation=\"relu\", input_shape=(1, 96, 96..., padding=\"same\", use_bias=True)`\n",
      "/home/vsankar/pyenvs/LungCancer/lib/python2.7/site-packages/ipykernel/__main__.py:72: UserWarning: Update your `Conv2D` call to the Keras 2 API: `Conv2D(32, (3, 3), kernel_initializer=\"orthogonal\", activation=\"relu\", padding=\"same\", use_bias=True)`\n",
      "/home/vsankar/pyenvs/LungCancer/lib/python2.7/site-packages/ipykernel/__main__.py:73: UserWarning: Update your `Conv2D` call to the Keras 2 API: `Conv2D(32, (3, 3), kernel_initializer=\"orthogonal\", activation=\"relu\", padding=\"same\", use_bias=True)`\n",
      "/home/vsankar/pyenvs/LungCancer/lib/python2.7/site-packages/ipykernel/__main__.py:77: UserWarning: Update your `Conv2D` call to the Keras 2 API: `Conv2D(64, (3, 3), kernel_initializer=\"orthogonal\", activation=\"relu\", padding=\"same\", use_bias=True)`\n",
      "/home/vsankar/pyenvs/LungCancer/lib/python2.7/site-packages/ipykernel/__main__.py:78: UserWarning: Update your `Conv2D` call to the Keras 2 API: `Conv2D(64, (3, 3), kernel_initializer=\"orthogonal\", activation=\"relu\", padding=\"same\", use_bias=True)`\n",
      "/home/vsankar/pyenvs/LungCancer/lib/python2.7/site-packages/ipykernel/__main__.py:79: UserWarning: Update your `Conv2D` call to the Keras 2 API: `Conv2D(64, (3, 3), kernel_initializer=\"orthogonal\", activation=\"relu\", padding=\"same\", use_bias=True)`\n",
      "/home/vsankar/pyenvs/LungCancer/lib/python2.7/site-packages/ipykernel/__main__.py:83: UserWarning: Update your `Conv2D` call to the Keras 2 API: `Conv2D(96, (3, 3), kernel_initializer=\"orthogonal\", activation=\"relu\", padding=\"same\", use_bias=True)`\n",
      "/home/vsankar/pyenvs/LungCancer/lib/python2.7/site-packages/ipykernel/__main__.py:84: UserWarning: Update your `Conv2D` call to the Keras 2 API: `Conv2D(96, (3, 3), kernel_initializer=\"orthogonal\", activation=\"relu\", padding=\"same\", use_bias=True)`\n",
      "/home/vsankar/pyenvs/LungCancer/lib/python2.7/site-packages/ipykernel/__main__.py:85: UserWarning: Update your `Conv2D` call to the Keras 2 API: `Conv2D(96, (3, 3), kernel_initializer=\"orthogonal\", activation=\"relu\", padding=\"same\", use_bias=True)`\n",
      "/home/vsankar/pyenvs/LungCancer/lib/python2.7/site-packages/ipykernel/__main__.py:88: UserWarning: Update your `Conv2D` call to the Keras 2 API: `Conv2D(128, (3, 3), kernel_initializer=\"orthogonal\", activation=\"relu\", padding=\"same\", use_bias=True)`\n",
      "/home/vsankar/pyenvs/LungCancer/lib/python2.7/site-packages/ipykernel/__main__.py:90: UserWarning: Update your `Conv2D` call to the Keras 2 API: `Conv2D(512, (1, 1), kernel_initializer=\"orthogonal\", activation=\"relu\", padding=\"same\", use_bias=True)`\n",
      "/home/vsankar/pyenvs/LungCancer/lib/python2.7/site-packages/ipykernel/__main__.py:92: UserWarning: Update your `Conv2D` call to the Keras 2 API: `Conv2D(2, (1, 1), kernel_initializer=\"orthogonal\", activation=\"relu\", padding=\"same\", use_bias=True)`\n",
      "/home/vsankar/pyenvs/LungCancer/lib/python2.7/site-packages/ipykernel/__main__.py:93: UserWarning: Update your `GlobalAveragePooling2D` call to the Keras 2 API: `GlobalAveragePooling2D(data_format=None)`\n"
     ]
    },
    {
     "name": "stdout",
     "output_type": "stream",
     "text": [
      "_________________________________________________________________\n",
      "Layer (type)                 Output Shape              Param #   \n",
      "=================================================================\n",
      "conv2d_37 (Conv2D)           (None, 32, 96, 96)        320       \n",
      "_________________________________________________________________\n",
      "conv2d_38 (Conv2D)           (None, 32, 96, 96)        9248      \n",
      "_________________________________________________________________\n",
      "conv2d_39 (Conv2D)           (None, 32, 96, 96)        9248      \n",
      "_________________________________________________________________\n",
      "max_pooling2d_10 (MaxPooling (None, 32, 48, 48)        0         \n",
      "_________________________________________________________________\n",
      "conv2d_40 (Conv2D)           (None, 64, 48, 48)        18496     \n",
      "_________________________________________________________________\n",
      "conv2d_41 (Conv2D)           (None, 64, 48, 48)        36928     \n",
      "_________________________________________________________________\n",
      "conv2d_42 (Conv2D)           (None, 64, 48, 48)        36928     \n",
      "_________________________________________________________________\n",
      "max_pooling2d_11 (MaxPooling (None, 64, 24, 24)        0         \n",
      "_________________________________________________________________\n",
      "conv2d_43 (Conv2D)           (None, 96, 24, 24)        55392     \n",
      "_________________________________________________________________\n",
      "conv2d_44 (Conv2D)           (None, 96, 24, 24)        83040     \n",
      "_________________________________________________________________\n",
      "conv2d_45 (Conv2D)           (None, 96, 24, 24)        83040     \n",
      "_________________________________________________________________\n",
      "max_pooling2d_12 (MaxPooling (None, 96, 12, 12)        0         \n",
      "_________________________________________________________________\n",
      "conv2d_46 (Conv2D)           (None, 128, 12, 12)       110720    \n",
      "_________________________________________________________________\n",
      "conv2d_47 (Conv2D)           (None, 512, 12, 12)       66048     \n",
      "_________________________________________________________________\n",
      "conv2d_48 (Conv2D)           (None, 2, 12, 12)         1026      \n",
      "_________________________________________________________________\n",
      "global_average_pooling2d_4 ( (None, 2)                 0         \n",
      "_________________________________________________________________\n",
      "activation_4 (Activation)    (None, 2)                 0         \n",
      "=================================================================\n",
      "Total params: 510,434\n",
      "Trainable params: 510,434\n",
      "Non-trainable params: 0\n",
      "_________________________________________________________________\n"
     ]
    }
   ],
   "source": [
    "#!/usr/bin/env python3\n",
    "# code to replicate the performance of the NIPS'16 MLHC workshop paper \"Cam CNNS predict anatomy?\"\n",
    "\n",
    "from __future__ import absolute_import\n",
    "from __future__ import print_function\n",
    "\n",
    "import os\n",
    "import csv\n",
    "import six\n",
    "\n",
    "import numpy as np\n",
    "import time\n",
    "import json\n",
    "import warnings\n",
    "\n",
    "from collections import deque\n",
    "from collections import OrderedDict\n",
    "from collections import Iterable\n",
    "\n",
    "# os.environ[\"THEANO_FLAGS\"] = \"device=gpu0,floatX=float32\" \n",
    "\n",
    "os.environ['KERAS_BACKEND'] = 'tensorflow'\n",
    "# os.environ[\n",
    "#     \"THEANO_FLAGS\"] = \"mode=FAST_RUN,device=gpu,floatX=float32,force_device=true\"#,lib.cnmem=0.7 ,nvcc.flags=-D_FORCE_INLINES\"\n",
    "import sys\n",
    "import numpy as np\n",
    "from keras import backend as K\n",
    "K.set_image_data_format('channels_first')\n",
    "#from keras.datasets import cifar10\n",
    "#keras.callbacks.Callback()\n",
    "from keras.preprocessing.image import ImageDataGenerator\n",
    "from keras.models import Sequential\n",
    "from keras.layers import Dense, Dropout, Activation, Flatten\n",
    "from keras.applications.vgg16 import VGG16\n",
    "from keras.preprocessing import image\n",
    "from keras.applications.vgg16 import preprocess_input\n",
    "from keras.layers.advanced_activations import LeakyReLU\n",
    "from keras.layers import Convolution2D, MaxPooling2D \n",
    "from keras.layers import GlobalAveragePooling2D\n",
    "from keras.layers.normalization import BatchNormalization as BN\n",
    "from keras.optimizers import Adam\n",
    "from keras.utils import np_utils\n",
    "from keras.models import model_from_json\n",
    "from keras.callbacks import ModelCheckpoint, Callback\n",
    "from keras.models import load_model\n",
    "from keras.datasets import mnist\n",
    "from scipy import io\n",
    "from IPython.core.debugger import Tracer\n",
    "import matplotlib.pyplot as plt\n",
    "\n",
    "\n",
    "def load_data():\n",
    "    data = np.load('/work/vsankar/Project-Luna/Train_nf_data.npz')\n",
    "    X_train = data['X_train']\n",
    "    Y_train = data['Y_train']\n",
    "    \n",
    "    data = np.load('/work/vsankar/Project-Luna/Test_nf_data.npz')\n",
    "    X_test = data['X_test']\n",
    "    Y_test = data['Y_test']    \n",
    "    \n",
    "    data = np.load('/work/vsankar/Project-Luna/Val_nf_data.npz')\n",
    "    X_val = data['X_val']\n",
    "    Y_val = data['Y_val']\n",
    "    \n",
    "    return X_train,Y_train,X_test,Y_test,X_val,Y_val\n",
    "\n",
    "                    \n",
    "def model_architecture(img_rows,img_cols,img_channels,nb_classes):\n",
    "    #function defining the architecture of defined CNN\n",
    "    model = Sequential()\n",
    "    model.add(Convolution2D(32, 3, 3, activation='relu', border_mode='same',init='orthogonal', bias = True, input_shape=(img_channels,img_rows, img_cols)))\n",
    "    model.add(Convolution2D(32, 3, 3, activation='relu', border_mode='same',init='orthogonal', bias = True))\n",
    "    model.add(Convolution2D(32, 3, 3, activation='relu', border_mode='same',init='orthogonal', bias = True))\n",
    "\n",
    "    model.add(MaxPooling2D(pool_size=(2, 2), strides = (2,2)))\n",
    "\n",
    "    model.add(Convolution2D(64, 3, 3, activation='relu', border_mode='same',init='orthogonal', bias = True))\n",
    "    model.add(Convolution2D(64, 3, 3, activation='relu', border_mode='same',init='orthogonal', bias = True))\n",
    "    model.add(Convolution2D(64, 3, 3, activation='relu', border_mode='same',init='orthogonal', bias = True))\n",
    "\n",
    "    model.add(MaxPooling2D(pool_size=(2, 2), strides = (2,2)))\n",
    "\n",
    "    model.add(Convolution2D(96, 3, 3, activation='relu', border_mode='same',init='orthogonal', bias = True))\n",
    "    model.add(Convolution2D(96, 3, 3, activation='relu', border_mode='same',init='orthogonal', bias = True))\n",
    "    model.add(Convolution2D(96, 3, 3, activation='relu', border_mode='same',init='orthogonal', bias = True))\n",
    "\n",
    "    model.add(MaxPooling2D(pool_size=(2, 2), strides = (2,2)))\n",
    "    model.add(Convolution2D(128, 3, 3, activation='relu', border_mode='same',init='orthogonal', bias = True))\n",
    "    Dropout((0.5))\n",
    "    model.add(Convolution2D(512, 1, 1, activation='relu', border_mode='same',init='orthogonal', bias = True))\n",
    "    Dropout((0.5))\n",
    "    model.add(Convolution2D(2, 1, 1, activation='relu', border_mode='same',init='orthogonal', bias = True))\n",
    "    model.add(GlobalAveragePooling2D(dim_ordering='default'))\n",
    "\n",
    "    #model.add(Convolution2D(10,1,1, border_mode='same',init='orthogonal', bias = True))\n",
    "    #model.add(Dense(nb_classes))\n",
    "\n",
    "    model.add(Activation('softmax'))\n",
    "    model.summary()\n",
    "    return model\n",
    "\n",
    "\n",
    "def normalize_date(X_train,Y_train,X_test,Y_test,X_val, Y_val,nb_classes):\n",
    "    print('X_train shape:', X_train.shape)\n",
    "    print(X_train.shape[0], 'train samples')\n",
    "    print(X_test.shape[0], 'test samples')\n",
    "    print(X_val.shape[0], 'val samples')\n",
    "    \n",
    "    X_train = X_train.astype('float32')\n",
    "    X_test = X_test.astype('float32')\n",
    "    X_val = X_val.astype('float32')\n",
    "    \n",
    "    Y_train = Y_train.astype('float32')\n",
    "    Y_test = Y_test.astype('float32')\n",
    "    Y_val = Y_val.astype('float32')\n",
    "\n",
    "#     normalizing the data\n",
    "    X_train /= 4095.0   \n",
    "    X_test /= 4095.0\n",
    "    X_val /= 4095.0\n",
    "    \n",
    "    #std\n",
    "#     X_train = X_train/np.std(X_train) - np.mean(X_train)\n",
    "#     X_test = X_test/np.std(X_test) - np.mean(X_test)\n",
    "    \n",
    "#     Tracer()()\n",
    "    # convert class vectors to binary class matrices\n",
    "#     Y_train = np_utils.to_categorical(Y_train, nb_classes)\n",
    "#     Y_test = np_utils.to_categorical(Y_test, nb_classes)\n",
    "#     Y_val = np_utils.to_categorical(Y_val, nb_classes)\n",
    "    \n",
    "    \n",
    "    return X_train,Y_train,X_test,Y_test,X_val,Y_val\n",
    "\n",
    "def run(batch_size,nb_classes,nb_epoch,data_augmentation,img_rows, img_cols,img_channels,model_name):\n",
    "\n",
    "    \n",
    "    \n",
    "    print('Loading and formatiing of data complete...')\n",
    "    \n",
    "    #load the model defined in model_architecture function\n",
    "    model = model_architecture(img_rows,img_cols,img_channels,nb_classes)\n",
    "\n",
    "#     training the model using SGD + momentum\n",
    "#     adm = Adam(lr=0.000001, beta_1=0.9, beta_2=0.999, epsilon=1e-08, decay=0.0)\n",
    "#     model.compile(loss='categorical_crossentropy',\n",
    "#                   optimizer=adm,\n",
    "#                   metrics=['accuracy'])\n",
    "\n",
    "  \n",
    "    modelPath = '/work/vsankar/Project-Luna/Luna_weights/'+model_name+'.hdf5'\n",
    "#     Tracer()()\n",
    "    model.load_weights(modelPath)\n",
    "#     Tracer()()\n",
    "#     model.predict( X_test, batch_size=None, verbose=0, steps=None)\n",
    "\n",
    "    return model\n",
    "\n",
    "        # serialize model to JSON\n",
    "        \n",
    "model_name = 'luna_weights_t_ae5_nt_b128_d25_BN0_best'     \n",
    "batch_size = 50\n",
    "nb_classes = 2\n",
    "nb_epoch = 30\n",
    "data_augmentation = True\n",
    "# input image dimensions\n",
    "img_rows, img_cols = 96,96\n",
    "# the imgCLEF images are grey\n",
    "img_channels = 1\n",
    "model = run(batch_size,nb_classes,nb_epoch,data_augmentation,img_rows,img_cols,img_channels,model_name)\n",
    "# model_architecture(img_rows,img_cols,img_channels,nb_classes)"
   ]
  },
  {
   "cell_type": "code",
   "execution_count": 7,
   "metadata": {},
   "outputs": [
    {
     "name": "stdout",
     "output_type": "stream",
     "text": [
      "X_train shape: (35191, 1, 96, 96)\n",
      "35191 train samples\n",
      "2997 test samples\n",
      "2997 val samples\n"
     ]
    }
   ],
   "source": [
    "X_test,y_test,X_train,y_train,x_val,y_val = load_data()\n",
    "nb_classes=2\n",
    "X_train,Y_train,X_test,Y_test,X_val,Y_val = normalize_date(X_test,y_test,X_train,y_train,x_val,y_val,nb_classes)\n",
    "# np.save('/work/vsankar/Project-Luna/Test_data.npy', X_test,Y_test)\n",
    "\n",
    "\n",
    "X_testing = X_val\n",
    "Y_testing = Y_val\n",
    "\n",
    "\n",
    "y = model.predict( X_testing, batch_size=1, verbose=0)"
   ]
  },
  {
   "cell_type": "code",
   "execution_count": null,
   "metadata": {},
   "outputs": [],
   "source": []
  },
  {
   "cell_type": "code",
   "execution_count": 13,
   "metadata": {},
   "outputs": [
    {
     "data": {
      "text/plain": [
       "array([ 1.,  1.,  1., ...,  0.,  0.,  0.], dtype=float32)"
      ]
     },
     "execution_count": 13,
     "metadata": {},
     "output_type": "execute_result"
    }
   ],
   "source": [
    "Y_test[:,].astype('float32')\n"
   ]
  },
  {
   "cell_type": "code",
   "execution_count": 14,
   "metadata": {},
   "outputs": [
    {
     "data": {
      "text/plain": [
       "array([ 0.96031159,  0.95115805,  0.96130818, ...,  0.12470222,\n",
       "        0.6728462 ,  0.58903307], dtype=float32)"
      ]
     },
     "execution_count": 14,
     "metadata": {},
     "output_type": "execute_result"
    }
   ],
   "source": [
    " y[:,1]"
   ]
  },
  {
   "cell_type": "code",
   "execution_count": 8,
   "metadata": {},
   "outputs": [],
   "source": [
    "from sklearn import metrics as m\n",
    "from IPython.core.debugger import Tracer;\n",
    "Threshold = [0.1,0.2,0.3,0.4,0.5,0.6,0.7,0.8,0.9]\n",
    "i=0\n",
    "sen_tpr=np.zeros(len(Threshold))\n",
    "spc_tnr=np.zeros(len(Threshold))\n",
    "acc=np.zeros(len(Threshold))\n",
    "tn=np.zeros(len(Threshold))\n",
    "fp=np.zeros(len(Threshold))\n",
    "fn=np.zeros(len(Threshold))\n",
    "tp= np.zeros(len(Threshold))\n",
    "for t in Threshold:\n",
    "#      Tracer()() \n",
    "    y_pred = y.copy()\n",
    "    y_true = Y_test\n",
    "    y_pred[y_pred>=t]=1\n",
    "#     Tracer()()\n",
    "    y_pred[y_pred<t] = 0\n",
    "    \n",
    "    cm = m.confusion_matrix(y_true[:,1], y_pred[:,1])\n",
    "#     Tracer()()\n",
    "    \n",
    "    tn[i], fp[i], fn[i], tp[i] = cm.ravel().astype('float32')\n",
    "    \n",
    "    \n",
    "    sen_tpr[i]=tp[i]/(tp[i]+fn[i])\n",
    "    spc_tnr[i] = tn[i]/(tn[i]+fp[i])\n",
    "    acc[i] = (tp[i] +tn[i])/(tn[i]+tp[i]+fp[i]+fn[i])\n",
    "#     from IPython.core.debugger import Tracer; Tracer()() \n",
    "    i=i+1\n",
    "    \n"
   ]
  },
  {
   "cell_type": "code",
   "execution_count": 9,
   "metadata": {},
   "outputs": [
    {
     "data": {
      "text/plain": [
       "array([ 0.94477998,  0.92407248,  0.90638481,  0.8852459 ,  0.85893011,\n",
       "        0.82398619,  0.76747196,  0.63977567,  0.42622951])"
      ]
     },
     "execution_count": 9,
     "metadata": {},
     "output_type": "execute_result"
    }
   ],
   "source": [
    "sen_tpr\n"
   ]
  },
  {
   "cell_type": "code",
   "execution_count": 24,
   "metadata": {},
   "outputs": [
    {
     "data": {
      "text/plain": [
       "(array([ 209.,  230.,  259.,  275.,  285.,  300.,  330.,  370.,  449.]),\n",
       " array([ 1950.,  1943.,  1939.,  1929.,  1891.,  1824.,  1705.,  1555.,\n",
       "         1308.]),\n",
       " array([ 332.,  311.,  282.,  266.,  256.,  241.,  211.,  171.,   92.]),\n",
       " array([  19.,   26.,   30.,   40.,   78.,  145.,  264.,  414.,  661.]))"
      ]
     },
     "execution_count": 24,
     "metadata": {},
     "output_type": "execute_result"
    }
   ],
   "source": [
    "tn,tp,fp,fn\n"
   ]
  },
  {
   "cell_type": "code",
   "execution_count": 10,
   "metadata": {},
   "outputs": [
    {
     "data": {
      "text/plain": [
       "array([ 0.05007364,  0.06332842,  0.08541973,  0.10751105,  0.13402062,\n",
       "        0.16494845,  0.22827688,  0.3460972 ,  0.57437408])"
      ]
     },
     "execution_count": 10,
     "metadata": {},
     "output_type": "execute_result"
    }
   ],
   "source": [
    "spc_tnr\n"
   ]
  },
  {
   "cell_type": "code",
   "execution_count": 13,
   "metadata": {},
   "outputs": [
    {
     "data": {
      "text/plain": [
       "array([ 0.74207541,  0.7290624 ,  0.72038705,  0.70904238,  0.69469469,\n",
       "        0.67467467,  0.64531198,  0.57323991,  0.45979313])"
      ]
     },
     "execution_count": 13,
     "metadata": {},
     "output_type": "execute_result"
    }
   ],
   "source": [
    "acc\n"
   ]
  },
  {
   "cell_type": "code",
   "execution_count": 19,
   "metadata": {},
   "outputs": [],
   "source": [
    "ypint = np.packbits(y.astype('int'),axis=-1)\n",
    "ytrueint = np.packbits(Y_test.astype('int'),axis=-1)"
   ]
  },
  {
   "cell_type": "code",
   "execution_count": null,
   "metadata": {},
   "outputs": [],
   "source": [
    "# y.astype('float32'),Y_test.astype('float32')\n",
    "ypint,ytrueint\n"
   ]
  },
  {
   "cell_type": "code",
   "execution_count": null,
   "metadata": {},
   "outputs": [],
   "source": [
    "from sklearn import metrics as m\n",
    "print( \"accuracy is = \" )\n",
    "print (m.accuracy_score(ypint, ytrueint))\n",
    "print( \"confusion matrix is \")\n",
    "print (m.confusion_matrix( ytrueint,ypint))\n",
    "print (\"roc is \")\n",
    "fpr, tpr, thresholds = m.roc_curve(ytrueint, ypint, pos_label=2)\n",
    "print(\"fpr = \")\n",
    "print(fpr),\n",
    "print(\" tpr = \" )\n",
    "print(tpr)\n",
    "print(\" thresholds = \")\n",
    "print(thresholds)\n",
    "roc_auc = m.auc(fpr, tpr)"
   ]
  },
  {
   "cell_type": "code",
   "execution_count": null,
   "metadata": {},
   "outputs": [],
   "source": [
    "y_test.ravel()"
   ]
  },
  {
   "cell_type": "code",
   "execution_count": null,
   "metadata": {},
   "outputs": [],
   "source": [
    "plt.figure()\n",
    "lw = 2\n",
    "plt.plot(fpr, tpr, color='darkorange',\n",
    "         lw=lw, label='ROC curve (area = %0.2f)' % roc_auc)\n",
    "plt.plot([0, 1], [0, 1], color='navy', lw=lw, linestyle='--')\n",
    "plt.xlim([0.0, 1.0])\n",
    "plt.ylim([0.0, 1.05])\n",
    "plt.xlabel('False Positive Rate')\n",
    "plt.ylabel('True Positive Rate')\n",
    "plt.title('Receiver operating characteristic example')\n",
    "plt.legend(loc=\"lower right\")\n",
    "plt.show()"
   ]
  },
  {
   "cell_type": "code",
   "execution_count": null,
   "metadata": {},
   "outputs": [],
   "source": [
    "Y_test[1:200,:]"
   ]
  },
  {
   "cell_type": "code",
   "execution_count": null,
   "metadata": {},
   "outputs": [],
   "source": [
    "np.save('/work/vsankar/Project-Luna/Test_data.npy', X_test,Y_test)\n"
   ]
  },
  {
   "cell_type": "code",
   "execution_count": null,
   "metadata": {},
   "outputs": [],
   "source": [
    "data = np.load('/work/vsankar/Project-Luna/Test_data.npy')"
   ]
  },
  {
   "cell_type": "code",
   "execution_count": null,
   "metadata": {},
   "outputs": [],
   "source": [
    "X_test,y_test,X_train,y_train = load_data()\n",
    "# X_train,Y_train,X_test,Y_test = normalize_date(X_train,y_train,X_test,y_test,nb_classes)"
   ]
  },
  {
   "cell_type": "code",
   "execution_count": null,
   "metadata": {},
   "outputs": [],
   "source": [
    "y_train>1\n"
   ]
  },
  {
   "cell_type": "code",
   "execution_count": null,
   "metadata": {},
   "outputs": [],
   "source": [
    " np.count_nonzero(y_test) - 2510\n",
    "    "
   ]
  },
  {
   "cell_type": "code",
   "execution_count": null,
   "metadata": {},
   "outputs": [],
   "source": [
    "y_test[1:10]"
   ]
  },
  {
   "cell_type": "code",
   "execution_count": null,
   "metadata": {},
   "outputs": [],
   "source": []
  }
 ],
 "metadata": {
  "kernelspec": {
   "display_name": "Python (Lunch Cancer)",
   "language": "python",
   "name": "lung-cancer"
  },
  "language_info": {
   "codemirror_mode": {
    "name": "ipython",
    "version": 2
   },
   "file_extension": ".py",
   "mimetype": "text/x-python",
   "name": "python",
   "nbconvert_exporter": "python",
   "pygments_lexer": "ipython2",
   "version": "2.7.8"
  }
 },
 "nbformat": 4,
 "nbformat_minor": 2
}
