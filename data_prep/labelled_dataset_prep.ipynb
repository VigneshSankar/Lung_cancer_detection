{
 "cells": [
  {
   "cell_type": "code",
   "execution_count": 1,
   "metadata": {},
   "outputs": [
    {
     "name": "stderr",
     "output_type": "stream",
     "text": [
      "Using Theano backend.\n",
      "WARNING (theano.sandbox.cuda): The cuda backend is deprecated and will be removed in the next release (v0.10).  Please switch to the gpuarray backend. You can get more information about how to switch at this URL:\n",
      " https://github.com/Theano/Theano/wiki/Converting-to-the-new-gpu-back-end%28gpuarray%29\n",
      "\n",
      "WARNING (theano.sandbox.cuda): CUDA is installed, but device gpu is not available  (error: Unable to get the number of gpus available: CUDA driver version is insufficient for CUDA runtime version)\n"
     ]
    }
   ],
   "source": [
    "#!/usr/bin/env python3\n",
    "# code to replicate the performance of the NIPS'16 MLHC workshop paper \"Cam CNNS predict anatomy?\"\n",
    "\n",
    "from __future__ import absolute_import\n",
    "from __future__ import print_function\n",
    "\n",
    "import os\n",
    "import csv\n",
    "import six\n",
    "\n",
    "import numpy as np\n",
    "import time\n",
    "import json\n",
    "import warnings\n",
    "\n",
    "from collections import deque\n",
    "from collections import OrderedDict\n",
    "from collections import Iterable\n",
    "\n",
    "os.environ[\"THEANO_FLAGS\"] = \"device=gpu,floatX=float32\" \n",
    "\n",
    "# os.environ['KERAS_BACKEND'] = 'tensorflow'\n",
    "# os.environ[\n",
    "#     \"THEANO_FLAGS\"] = \"mode=FAST_RUN,device=gpu,floatX=float32,force_device=true\"#,lib.cnmem=0.7 ,nvcc.flags=-D_FORCE_INLINES\"\n",
    "import sys\n",
    "import numpy as np\n",
    "from keras import backend as K\n",
    "K.set_image_dim_ordering('th')\n",
    "# K.set_image_data_format('channels_first')\n",
    "#from keras.datasets import cifar10\n",
    "#keras.callbacks.Callback()\n",
    "from keras.preprocessing.image import ImageDataGenerator\n",
    "from keras.models import Sequential\n",
    "from keras.layers import Dense, Dropout, Activation, Flatten\n",
    "from keras.applications.vgg16 import VGG16\n",
    "from keras.preprocessing import image\n",
    "from keras.applications.vgg16 import preprocess_input\n",
    "from keras.layers.advanced_activations import LeakyReLU\n",
    "from keras.layers import Convolution2D, MaxPooling2D \n",
    "from keras.layers import GlobalAveragePooling2D\n",
    "from keras.layers.normalization import BatchNormalization as BN\n",
    "from keras.optimizers import Adam\n",
    "from keras.utils import np_utils\n",
    "from keras.models import model_from_json\n",
    "from keras.callbacks import ModelCheckpoint, Callback\n",
    "from keras.models import load_model\n",
    "from keras.datasets import mnist\n",
    "from scipy import io\n",
    "from IPython.core.debugger import Tracer\n",
    "import matplotlib.pyplot as plt\n",
    "# from Ipython.display import display, clear_output\n"
   ]
  },
  {
   "cell_type": "code",
   "execution_count": null,
   "metadata": {},
   "outputs": [],
   "source": []
  },
  {
   "cell_type": "code",
   "execution_count": 2,
   "metadata": {},
   "outputs": [],
   "source": [
    "def display_length(X,Y):\n",
    "\n",
    "#     Yr = np.round(Y)\n",
    "    \n",
    "    Y0 = Y[np.where(Y==0)]\n",
    "    Y1 = Y[np.where(Y==1)]\n",
    "    Y2 = Y[np.where(Y==2)]\n",
    "    Y3 = Y[np.where(Y==3)]\n",
    "    Y4 = Y[np.where(Y==4)]\n",
    "    Y5 = Y[np.where(Y==5)]\n",
    "    \n",
    "    print('len(y=0) = ' + str(len(Y0)))\n",
    "    print('len(y=1) = ' + str(len(Y1)))\n",
    "    print('len(y=2) = ' + str(len(Y2)))\n",
    "    print('len(y=3) = ' + str(len(Y3)))\n",
    "    print('len(y=4) = ' + str(len(Y4)))\n",
    "    print('len(y=5) = ' + str(len(Y5)))\n"
   ]
  },
  {
   "cell_type": "code",
   "execution_count": 3,
   "metadata": {},
   "outputs": [],
   "source": [
    "# def Y_threshold(X,Y):\n",
    "\n",
    "#     for i,y in enumerate(Y):\n",
    "#         if y<3:\n",
    "#             Y[i] = 0.0            \n",
    "#         elif y>=3:\n",
    "#             Y[i] = 1.0\n",
    "            \n",
    "#     #     Tracer()()        \n",
    "# #     y_true = map(lambda x:(x==0)|(x==1),Y)\n",
    "# #     Y = Y[y_true]\n",
    "# #     X = X[y_true]  \n",
    "\n",
    "#     return X,Y"
   ]
  },
  {
   "cell_type": "code",
   "execution_count": 4,
   "metadata": {},
   "outputs": [],
   "source": [
    "def Y_threshold(X,Y):\n",
    "\n",
    "    Yr = np.round(Y)\n",
    "    \n",
    "    Y0 = Y[np.where(Yr==0)]\n",
    "    Y1 = Y[np.where(Yr==1)]\n",
    "    Y2 = Y[np.where(Yr==2)]\n",
    "    Y3 = Y[np.where(Yr==3)]\n",
    "    Y4 = Y[np.where(Yr==4)]\n",
    "    Y5 = Y[np.where(Yr==5)]\n",
    "    \n",
    "    print('len(y=0) = ' + str(len(Y0)))\n",
    "    print('len(y=1) = ' + str(len(Y1)))\n",
    "    print('len(y=2) = ' + str(len(Y2)))\n",
    "    print('len(y=3) = ' + str(len(Y3)))\n",
    "    print('len(y=4) = ' + str(len(Y4)))\n",
    "    print('len(y=5) = ' + str(len(Y5)))\n",
    "    \n",
    "    for i,y in enumerate(Yr):\n",
    "        if y<3:\n",
    "            Yr[i] = 0.0            \n",
    "        elif y>=3:\n",
    "            Yr[i] = 1.0\n",
    "\n",
    "        \n",
    "    Y0 = Y[np.where(Yr==0)]\n",
    "    Y1 = Y[np.where(Yr==1)]\n",
    "    Y2 = Y[np.where(Yr==2)]     \n",
    "    \n",
    "    print('len(y=0) = ' + str(len(Y0)))\n",
    "    print('len(y=1) = ' + str(len(Y1)))\n",
    "    print('len(y=2) = ' + str(len(Y2)))\n",
    "    \n",
    "#     Tracer()()\n",
    "    return X,Yr"
   ]
  },
  {
   "cell_type": "code",
   "execution_count": 5,
   "metadata": {},
   "outputs": [],
   "source": [
    "# def Y_threshold(X,Y):\n",
    "\n",
    "#     Yr = np.round(Y)\n",
    "    \n",
    "#     Y0 = Y[np.where(Yr==0)]\n",
    "#     Y1 = Y[np.where(Yr==1)]\n",
    "#     Y2 = Y[np.where(Yr==2)]\n",
    "#     Y3 = Y[np.where(Yr==3)]\n",
    "#     Y4 = Y[np.where(Yr==4)]\n",
    "#     Y5 = Y[np.where(Yr==5)]\n",
    "    \n",
    "#     print('len(y=0) = ' + str(len(Y0)))\n",
    "#     print('len(y=1) = ' + str(len(Y1)))\n",
    "#     print('len(y=2) = ' + str(len(Y2)))\n",
    "#     print('len(y=3) = ' + str(len(Y3)))\n",
    "#     print('len(y=4) = ' + str(len(Y4)))\n",
    "#     print('len(y=5) = ' + str(len(Y5)))\n",
    "    \n",
    "#     for i,y in enumerate(Yr):\n",
    "#         if y<3:\n",
    "#             Yr[i] = 0.0            \n",
    "#         elif y==3:\n",
    "#             Yr[i] = 1.0\n",
    "#         elif y > 3:\n",
    "#             Yr[i] = 2.0\n",
    "        \n",
    "#     Y0 = Y[np.where(Yr==0)]\n",
    "#     Y1 = Y[np.where(Yr==1)]\n",
    "#     Y2 = Y[np.where(Yr==2)]     \n",
    "    \n",
    "#     print('len(y=0) = ' + str(len(Y0)))\n",
    "#     print('len(y=1) = ' + str(len(Y1)))\n",
    "#     print('len(y=2) = ' + str(len(Y2)))\n",
    "    \n",
    "#     Tracer()()\n",
    "#     return X,Yr"
   ]
  },
  {
   "cell_type": "code",
   "execution_count": 6,
   "metadata": {},
   "outputs": [],
   "source": [
    "# def load_data05():\n",
    "#     X = np.load('/work/vsankar/Project-Luna/image_array.npy')\n",
    "#     Y = np.load('/work/vsankar/Project-Luna/new_labels.npy')    \n",
    "    \n",
    "#     X,Y = Y_threshold(X,Y)\n",
    "    \n",
    "#     return X,Y\n",
    "    \n",
    "    \n",
    "    \n",
    "def load_data():\n",
    "    X = np.load('/work/vsankar/Project-Luna/image_array.npy')\n",
    "    Y = np.load('/work/vsankar/Project-Luna/new_labels.npy')\n",
    "#     Tracer()()\n",
    "\n",
    "    \n",
    "    X,Y = Y_threshold(X,Y)\n",
    "    \n",
    "    \n",
    "    \n",
    "    Yzero = Y[np.where(Y==0)]\n",
    "    Xzero = X[np.where(Y==0)]\n",
    "\n",
    "    Yone = Y[np.where(Y==1)]\n",
    "    Xone = X[np.where(Y==1)]\n",
    "    \n",
    "#     Tracer()()\n",
    "    # this will do preprocessing and realtime data augmentation\n",
    "    datagen = ImageDataGenerator(\n",
    "        featurewise_center=False,  # set input mean to 0 over the dataset\n",
    "        samplewise_center=False,  # set each sample mean to 0\n",
    "        featurewise_std_normalization=False,  # divide inputs by std of the dataset\n",
    "        samplewise_std_normalization=False,  # divide each input by its std\n",
    "        zca_whitening=False,  # apply ZCA whitening\n",
    "        rotation_range=180,  # randomly rotate images in the range (degrees, 0 to 180)\n",
    "    #     shear_range = 0.34,  # value in radians, equivalent to 20 deg\n",
    "    #     zoom_range = [1/1.6, 1.6],   #same as in NIPS 2015 paper.\n",
    "        width_shift_range=0.1,  # randomly shift images horizontally (fraction of total width)\n",
    "        height_shift_range=0.1,  # randomly shift images vertically (fraction of total height)\n",
    "        horizontal_flip=True,  # randomly flip images\n",
    "        vertical_flip=True)  # randomly flip images\n",
    "\n",
    "    n1 = 2\n",
    "    #increase zero dataset\n",
    "#     n1 = len(Yone)/len(Yzero)\n",
    "    \n",
    "#     Tracer()()\n",
    "    XzeroRotated , YzeroMRotated = datagen.flow(Xzero, Yzero, batch_size=16000).next()\n",
    "    \n",
    "#     for i in range(1):\n",
    "#         XzeroM , YzeroM = datagen.flow(Xzero, Yzero, batch_size=len(Yzero)).next()\n",
    "#         XzeroRotated = np.append(XzeroRotated,XzeroM,axis=0)\n",
    "#         YzeroMRotated = np.append(YzeroMRotated,YzeroM,axis=0)\n",
    "\n",
    "    #increase one dataset\n",
    "#     n1 = len(Yone)/len(Yzero)  \n",
    "#     XoneRotated , YoneMRotated = datagen.flow(Xone, Yone, batch_size=len(Yone)).next()\n",
    "#     Tracer()()\n",
    "#     for i in range(1):\n",
    "#         XoneM , YoneM = datagen.flow(Xone, Yone, batch_size=len(Yone)).next()\n",
    "#         XoneRotated = np.append(XoneRotated,XoneM,axis=0)\n",
    "#         YoneMRotated = np.append(YoneMRotated,YoneM,axis=0)\n",
    "\n",
    "\n",
    "    \n",
    "    X = np.append(X,XzeroRotated,axis=0)\n",
    "    Y = np.append(Y,YzeroMRotated,axis=0)\n",
    "    Tracer()()\n",
    "#     X = np.append(X,XoneRotated,axis=0)\n",
    "#     Y = np.append(Y,YoneMRotated,axis=0)\n",
    "    \n",
    "#     Tracer()()\n",
    "    \n",
    "#     n = len(Y)/10\n",
    "    \n",
    "#     a = range(len(Y))\n",
    "#     np.random.shuffle(a)\n",
    "#     idx_test = a[:n]\n",
    "#     idx_val = a[n:n*2]\n",
    "#     idx_train = a[n*2:]\n",
    "    \n",
    "#     X_train = X[idx_train]\n",
    "#     X_test = X[idx_test]\n",
    "#     X_val = X[idx_val]\n",
    "    \n",
    "#     y_train = Y[idx_train]\n",
    "#     y_test = Y[idx_test]\n",
    "#     y_val = Y[idx_val]\n",
    "\n",
    "    return X,Y\n"
   ]
  },
  {
   "cell_type": "code",
   "execution_count": 7,
   "metadata": {},
   "outputs": [],
   "source": [
    "from sklearn.model_selection import StratifiedShuffleSplit\n",
    "\n",
    "def startified(X,Y):\n",
    "    sss = StratifiedShuffleSplit(n_splits=1, test_size=0.2, random_state=5)\n",
    "    for train_index, test_index in sss.split(X, Y):\n",
    "        X_train, X_test_temp = X[train_index], X[test_index]\n",
    "        Y_train, Y_test_temp = Y[train_index], Y[test_index]\n",
    "    \n",
    "    Tracer()()\n",
    "    sss = StratifiedShuffleSplit(n_splits=1, test_size=0.5, random_state=5)\n",
    "    for test_index, val_index in sss.split(X_test_temp, Y_test_temp):\n",
    "        X_test, X_val = X_test_temp[test_index], X_test_temp[val_index]\n",
    "        Y_test, Y_val = Y_test_temp[test_index], Y_test_temp[val_index]    \n",
    "        \n",
    "    return X_train,Y_train,X_test,Y_test,X_val,Y_val"
   ]
  },
  {
   "cell_type": "code",
   "execution_count": 8,
   "metadata": {},
   "outputs": [
    {
     "name": "stdout",
     "output_type": "stream",
     "text": [
      "len(y=0) = 3\n",
      "len(y=1) = 3045\n",
      "len(y=2) = 7899\n",
      "len(y=3) = 12231\n",
      "len(y=4) = 11153\n",
      "len(y=5) = 3026\n",
      "len(y=0) = 10947\n",
      "len(y=1) = 26410\n",
      "len(y=2) = 0\n"
     ]
    },
    {
     "name": "stderr",
     "output_type": "stream",
     "text": [
      "/home/vsankar/pyenvs/LungCancerDev/lib/python2.7/site-packages/ipykernel/__main__.py:68: DeprecationWarning: `Tracer` is deprecated since version 5.1, directly use `IPython.core.debugger.Pdb.set_trace()`\n"
     ]
    },
    {
     "name": "stdout",
     "output_type": "stream",
     "text": [
      "> \u001b[0;32m<ipython-input-6-fa86eb603506>\u001b[0m(90)\u001b[0;36mload_data\u001b[0;34m()\u001b[0m\n",
      "\u001b[0;32m     86 \u001b[0;31m\u001b[0;31m#     y_train = Y[idx_train]\u001b[0m\u001b[0;34m\u001b[0m\u001b[0;34m\u001b[0m\u001b[0m\n",
      "\u001b[0m\u001b[0;32m     87 \u001b[0;31m\u001b[0;31m#     y_test = Y[idx_test]\u001b[0m\u001b[0;34m\u001b[0m\u001b[0;34m\u001b[0m\u001b[0m\n",
      "\u001b[0m\u001b[0;32m     88 \u001b[0;31m\u001b[0;31m#     y_val = Y[idx_val]\u001b[0m\u001b[0;34m\u001b[0m\u001b[0;34m\u001b[0m\u001b[0m\n",
      "\u001b[0m\u001b[0;32m     89 \u001b[0;31m\u001b[0;34m\u001b[0m\u001b[0m\n",
      "\u001b[0m\u001b[0;32m---> 90 \u001b[0;31m    \u001b[0;32mreturn\u001b[0m \u001b[0mX\u001b[0m\u001b[0;34m,\u001b[0m\u001b[0mY\u001b[0m\u001b[0;34m\u001b[0m\u001b[0m\n",
      "\u001b[0m\n",
      "ipdb>  display_length(X,Y)\n",
      "len(y=0) = 21894\n",
      "len(y=1) = 26410\n",
      "len(y=2) = 0\n",
      "len(y=3) = 0\n",
      "len(y=4) = 0\n",
      "len(y=5) = 0\n",
      "ipdb> c\n"
     ]
    },
    {
     "name": "stderr",
     "output_type": "stream",
     "text": [
      "/home/vsankar/pyenvs/LungCancerDev/lib/python2.7/site-packages/ipykernel/__main__.py:9: DeprecationWarning: `Tracer` is deprecated since version 5.1, directly use `IPython.core.debugger.Pdb.set_trace()`\n"
     ]
    },
    {
     "name": "stdout",
     "output_type": "stream",
     "text": [
      "> \u001b[0;32m<ipython-input-7-65207ff13ea8>\u001b[0m(10)\u001b[0;36mstartified\u001b[0;34m()\u001b[0m\n",
      "\u001b[0;32m      8 \u001b[0;31m\u001b[0;34m\u001b[0m\u001b[0m\n",
      "\u001b[0m\u001b[0;32m      9 \u001b[0;31m    \u001b[0mTracer\u001b[0m\u001b[0;34m(\u001b[0m\u001b[0;34m)\u001b[0m\u001b[0;34m(\u001b[0m\u001b[0;34m)\u001b[0m\u001b[0;34m\u001b[0m\u001b[0m\n",
      "\u001b[0m\u001b[0;32m---> 10 \u001b[0;31m    \u001b[0msss\u001b[0m \u001b[0;34m=\u001b[0m \u001b[0mStratifiedShuffleSplit\u001b[0m\u001b[0;34m(\u001b[0m\u001b[0mn_splits\u001b[0m\u001b[0;34m=\u001b[0m\u001b[0;36m1\u001b[0m\u001b[0;34m,\u001b[0m \u001b[0mtest_size\u001b[0m\u001b[0;34m=\u001b[0m\u001b[0;36m0.5\u001b[0m\u001b[0;34m,\u001b[0m \u001b[0mrandom_state\u001b[0m\u001b[0;34m=\u001b[0m\u001b[0;36m5\u001b[0m\u001b[0;34m)\u001b[0m\u001b[0;34m\u001b[0m\u001b[0m\n",
      "\u001b[0m\u001b[0;32m     11 \u001b[0;31m    \u001b[0;32mfor\u001b[0m \u001b[0mtest_index\u001b[0m\u001b[0;34m,\u001b[0m \u001b[0mval_index\u001b[0m \u001b[0;32min\u001b[0m \u001b[0msss\u001b[0m\u001b[0;34m.\u001b[0m\u001b[0msplit\u001b[0m\u001b[0;34m(\u001b[0m\u001b[0mX_test_temp\u001b[0m\u001b[0;34m,\u001b[0m \u001b[0mY_test_temp\u001b[0m\u001b[0;34m)\u001b[0m\u001b[0;34m:\u001b[0m\u001b[0;34m\u001b[0m\u001b[0m\n",
      "\u001b[0m\u001b[0;32m     12 \u001b[0;31m        \u001b[0mX_test\u001b[0m\u001b[0;34m,\u001b[0m \u001b[0mX_val\u001b[0m \u001b[0;34m=\u001b[0m \u001b[0mX_test_temp\u001b[0m\u001b[0;34m[\u001b[0m\u001b[0mtest_index\u001b[0m\u001b[0;34m]\u001b[0m\u001b[0;34m,\u001b[0m \u001b[0mX_test_temp\u001b[0m\u001b[0;34m[\u001b[0m\u001b[0mval_index\u001b[0m\u001b[0;34m]\u001b[0m\u001b[0;34m\u001b[0m\u001b[0m\n",
      "\u001b[0m\n",
      "ipdb> c\n"
     ]
    }
   ],
   "source": [
    "X,Y  = load_data()\n",
    "nb_classe=2\n",
    "X_train,Y_train,X_test,Y_test,X_val,Y_val = startified(X,Y)\n",
    "# X_train,Y_train,X_test,Y_test,X_val,Y_val = normalize_date(X_train,y_train,X_test,y_test,X_val,y_val,nb_classe)"
   ]
  },
  {
   "cell_type": "code",
   "execution_count": 9,
   "metadata": {
    "scrolled": true
   },
   "outputs": [
    {
     "name": "stdout",
     "output_type": "stream",
     "text": [
      "y=1\n",
      "21128\n",
      "y=0\n",
      "17515\n"
     ]
    }
   ],
   "source": [
    "print('y=1')\n",
    "print(len(np.where(Y_train==1)[0]))\n",
    "\n",
    "print('y=0')\n",
    "print(len(np.where(Y_train==0)[0]))"
   ]
  },
  {
   "cell_type": "code",
   "execution_count": null,
   "metadata": {},
   "outputs": [],
   "source": [
    "Y_train[0]"
   ]
  },
  {
   "cell_type": "code",
   "execution_count": null,
   "metadata": {},
   "outputs": [],
   "source": [
    "Yzero = Y_train[np.where(Y_train[:,1]==0)]\n",
    "Xzero = X_train[np.where(Y_train[:,1]==0)]\n",
    "\n",
    "Yone = Y_train[np.where(Y_train[:,1]==1)]\n",
    "Xone = X_train[np.where(Y_train[:,1]==1)]\n",
    "# this will do preprocessing and realtime data augmentation\n",
    "datagen = ImageDataGenerator(\n",
    "    featurewise_center=False,  # set input mean to 0 over the dataset\n",
    "    samplewise_center=False,  # set each sample mean to 0\n",
    "    featurewise_std_normalization=False,  # divide inputs by std of the dataset\n",
    "    samplewise_std_normalization=False,  # divide each input by its std\n",
    "    zca_whitening=False,  # apply ZCA whitening\n",
    "    rotation_range=180,  # randomly rotate images in the range (degrees, 0 to 180)\n",
    "#     shear_range = 0.34,  # value in radians, equivalent to 20 deg\n",
    "#     zoom_range = [1/1.6, 1.6],   #same as in NIPS 2015 paper.\n",
    "    width_shift_range=0.1,  # randomly shift images horizontally (fraction of total width)\n",
    "    height_shift_range=0.1,  # randomly shift images vertically (fraction of total height)\n",
    "    horizontal_flip=True,  # randomly flip images\n",
    "    vertical_flip=True)  # randomly flip images\n",
    "\n",
    "#increase zero dataset\n",
    "n1 = len(Yone)/len(Yzero)\n",
    "# n1 = 2\n",
    "\n",
    "XzeroRotated , YzeroMRotated = datagen.flow(Xzero, Yzero, batch_size=len(Yzero)).next()\n",
    "# Tracer()()\n",
    "for i in range(n1-2):\n",
    "    XzeroM , YzeroM = datagen.flow(Xzero, Yzero, batch_size=len(Yzero)).next()\n",
    "    XzeroRotated = np.append(XzeroRotated,XzeroM,axis=0)\n",
    "    YzeroMRotated = np.append(YzeroMRotated,YzeroM,axis=0)\n",
    "    \n",
    "#increase one dataset\n",
    "# n1 = len(Yone)/len(Yzero)\n",
    "# n_increase_zero = 2\n",
    "# XoneRotated , YoneMRotated = datagen.flow(Xone, Yone, batch_size=len(Yzero)).next()\n",
    "# # Tracer()()\n",
    "# for i in range(n1-2):\n",
    "#     XoneM , YoneM = datagen.flow(Xzero, Yzero, batch_size=len(Yzero)).next()\n",
    "#     XoneRotated = np.append(XoneRotated,XoneM,axis=0)\n",
    "#     YoneMRotated = np.append(YoneMRotated,YoneM,axis=0)\n",
    "\n",
    "\n",
    "\n",
    "X_train = np.append(X_train,XzeroRotated,axis=0)\n",
    "Y_train = np.append(Y_train,YzeroMRotated,axis=0)"
   ]
  },
  {
   "cell_type": "code",
   "execution_count": 10,
   "metadata": {},
   "outputs": [
    {
     "name": "stdout",
     "output_type": "stream",
     "text": [
      "y=1 train\n",
      "21128\n",
      "y=0 train\n",
      "17515\n",
      "y=1 test\n",
      "2641\n",
      "y=0 test\n",
      "2189\n",
      "y=1 val\n",
      "2641\n",
      "y=0 val\n",
      "2190\n",
      "38643 train samples\n",
      "4830 test samples\n",
      "4831 val samples\n"
     ]
    }
   ],
   "source": [
    "print('y=1 train')\n",
    "print(len(np.where(Y_train==1)[0]))\n",
    "\n",
    "print('y=0 train')\n",
    "print(len(np.where(Y_train==0)[0]))\n",
    "\n",
    "print('y=1 test')\n",
    "print(len(np.where(Y_test==1)[0]))\n",
    "\n",
    "print('y=0 test')\n",
    "print(len(np.where(Y_test==0)[0]))\n",
    "\n",
    "print('y=1 val')\n",
    "print(len(np.where(Y_val==1)[0]))\n",
    "\n",
    "print('y=0 val')\n",
    "print(len(np.where(Y_val==0)[0]))\n",
    "\n",
    "print(X_train.shape[0], 'train samples')\n",
    "print(X_test.shape[0], 'test samples')\n",
    "print(X_val.shape[0], 'val samples')"
   ]
  },
  {
   "cell_type": "code",
   "execution_count": 11,
   "metadata": {},
   "outputs": [
    {
     "name": "stdout",
     "output_type": "stream",
     "text": [
      "X_train shape: (38643, 1, 96, 96)\n"
     ]
    }
   ],
   "source": [
    "print('X_train shape:', X_train.shape)\n"
   ]
  },
  {
   "cell_type": "code",
   "execution_count": 12,
   "metadata": {},
   "outputs": [],
   "source": [
    "np.savez('/work/vsankar/Project-Luna/Train_all_dA_0for9k_1for0_rotated_data',X_train =  X_train,Y_train = Y_train)\n",
    "np.savez('/work/vsankar/Project-Luna/Test_all_dA_0for9k_1for0_rotated_data', X_test=X_test,Y_test=Y_test)\n",
    "np.savez('/work/vsankar/Project-Luna/Val_all_dA_0for9k_1for0_rotated_data', X_val=X_val,Y_val=Y_val)"
   ]
  },
  {
   "cell_type": "code",
   "execution_count": null,
   "metadata": {},
   "outputs": [],
   "source": [
    " data = np.load('/work/vsankar/Project-Luna/Train_nf_data.npz')"
   ]
  },
  {
   "cell_type": "code",
   "execution_count": null,
   "metadata": {},
   "outputs": [],
   "source": [
    "data['X_train']"
   ]
  },
  {
   "cell_type": "code",
   "execution_count": null,
   "metadata": {},
   "outputs": [],
   "source": [
    "X_train,Y_train = np.load('/work/vsankar/Project-Luna/Train_nf_data.npy')\n",
    "X_test,Y_test = np.load('/work/vsankar/Project-Luna/Test_nf_data.npy')\n",
    "X_val,Y_val = np.load('/work/vsankar/Project-Luna/Val_nf_data.npy')"
   ]
  },
  {
   "cell_type": "code",
   "execution_count": null,
   "metadata": {},
   "outputs": [],
   "source": [
    "print(X_train.shape[0], 'train samples')\n",
    "print(X_test.shape[0], 'test samples')\n",
    "print(X_val.shape[0], 'val samples')"
   ]
  },
  {
   "cell_type": "code",
   "execution_count": null,
   "metadata": {},
   "outputs": [],
   "source": [
    " np.load('/work/vsankar/Project-Luna/Train_nf_data.npy')"
   ]
  },
  {
   "cell_type": "code",
   "execution_count": null,
   "metadata": {},
   "outputs": [],
   "source": [
    "len(np.where(y_train==1)[0])"
   ]
  },
  {
   "cell_type": "code",
   "execution_count": null,
   "metadata": {},
   "outputs": [],
   "source": [
    "type(YzeroM)"
   ]
  },
  {
   "cell_type": "code",
   "execution_count": null,
   "metadata": {},
   "outputs": [],
   "source": [
    "0.1*96\n"
   ]
  },
  {
   "cell_type": "code",
   "execution_count": null,
   "metadata": {},
   "outputs": [],
   "source": [
    "range(0)"
   ]
  },
  {
   "cell_type": "code",
   "execution_count": null,
   "metadata": {},
   "outputs": [],
   "source": [
    "\n",
    "def normalize_date(X_train,Y_train,X_test,Y_test,X_val, Y_val,nb_classes):\n",
    "    print('X_train shape:', X_train.shape)\n",
    "    print(X_train.shape[0], 'train samples')\n",
    "    print(X_test.shape[0], 'test samples')\n",
    "    print(X_val.shape[0], 'val samples')\n",
    "    \n",
    "    X_train = X_train.astype('float32')\n",
    "    X_test = X_test.astype('float32')\n",
    "    X_val = X_val.astype('float32')\n",
    "    \n",
    "    Y_train = Y_train.astype('float32')\n",
    "    Y_test = Y_test.astype('float32')\n",
    "    Y_val = Y_val.astype('float32')\n",
    "\n",
    "#     normalizing the data\n",
    "#     X_train /= 4095.0   \n",
    "#     X_test /= 4095.0\n",
    "#     X_val /= 4095.0\n",
    "    \n",
    "    #std\n",
    "#     X_train = X_train/np.std(X_train) - np.mean(X_train)\n",
    "#     X_test = X_test/np.std(X_test) - np.mean(X_test)\n",
    "    \n",
    "#     Tracer()()\n",
    "    # convert class vectors to binary class matrices\n",
    "    Y_train = np_utils.to_categorical(Y_train, nb_classes)\n",
    "    Y_test = np_utils.to_categorical(Y_test, nb_classes)\n",
    "    Y_val = np_utils.to_categorical(Y_val, nb_classes)\n",
    "    \n",
    "    \n",
    "    return X_train,Y_train,X_test,Y_test,X_val,Y_val"
   ]
  }
 ],
 "metadata": {
  "kernelspec": {
   "display_name": "LungCancerDev",
   "language": "python",
   "name": "lungcancerdev"
  },
  "language_info": {
   "codemirror_mode": {
    "name": "ipython",
    "version": 2
   },
   "file_extension": ".py",
   "mimetype": "text/x-python",
   "name": "python",
   "nbconvert_exporter": "python",
   "pygments_lexer": "ipython2",
   "version": "2.7.8"
  }
 },
 "nbformat": 4,
 "nbformat_minor": 2
}
