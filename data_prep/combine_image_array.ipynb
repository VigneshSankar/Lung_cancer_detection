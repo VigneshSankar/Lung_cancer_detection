{
 "cells": [
  {
   "cell_type": "code",
   "execution_count": null,
   "metadata": {},
   "outputs": [],
   "source": [
    "import numpy as np\n",
    "from skimage import morphology\n",
    "from skimage import measure\n",
    "from sklearn.cluster import KMeans\n",
    "from skimage.transform import resize\n",
    "# from skimage.io import imread,imshow,show\n",
    "from glob import glob\n",
    "from os import listdir\n",
    "import csv\n",
    "# %matplotlib nbagg\n",
    "# %matplotlib qt\n",
    "# %matplotlib inline\n",
    "import matplotlib.pyplot as plt\n",
    "from skimage.draw import polygon_perimeter\n",
    "from IPython.core.debugger import Tracer\n",
    "import scipy.misc\n",
    "\n",
    "saving_path = \"/work/vsankar/Project-Luna/data/array_new/\"\n",
    "\n",
    "start = 1000\n",
    "stop = 1010\n",
    "\n",
    "imgaes = np.load(saving_path+\"Images_mask1_\"+str(start)+\"_\"+ str(stop)+\"_.npy\")\n",
    "\n",
    "nodule_images_border = np.load(saving_path+\"nodule_images_border1_\"+str(start)+\"_\"+ str(stop)+\"_.npy\")\n",
    "    \n",
    "mal = np.load(saving_path+\"mal_mask1_\"+str(start)+\"_\"+ str(stop)+\"_.npy\")\n",
    "\n",
    "labels = np.load(saving_path+\"label1_\"+str(start)+\"_\"+ str(stop)+\"_.npy\")\n",
    "\n",
    "# Tracer()()\n",
    "\n",
    "for i in range(10):\n",
    "    \n",
    "    print(i)\n",
    "    \n",
    "    start = i*100\n",
    "    stop = (i+1)*100\n",
    "    \n",
    "    imgaes1 = np.load(saving_path+\"Images_mask1_\"+str(start)+\"_\"+ str(stop)+\"_.npy\")\n",
    "    imgaes = np.append(imgaes, imgaes1, axis=0)\n",
    "\n",
    "    nodule_images_border1 = np.load(saving_path+\"nodule_images_border1_\"+str(start)+\"_\"+ str(stop)+\"_.npy\")\n",
    "    nodule_images_border = np.append(nodule_images_border, nodule_images_border1, axis=0)\n",
    "    \n",
    "    mal1 = np.load(saving_path+\"mal_mask1_\"+str(start)+\"_\"+ str(stop)+\"_.npy\")\n",
    "    mal = np.append(mal, mal1, axis=0)\n",
    "    \n",
    "    labels1 = np.load(saving_path+\"label1_\"+str(start)+\"_\"+ str(stop)+\"_.npy\")\n",
    "    labels = np.append(labels, labels1, axis=0)\n",
    "    \n",
    "#     Tracer()()\n",
    "    "
   ]
  },
  {
   "cell_type": "code",
   "execution_count": null,
   "metadata": {},
   "outputs": [],
   "source": [
    "saving_path_new = \"/work/vsankar/Project-Luna/data/array_new/np_array/\"\n",
    "np.save(saving_path_new+'nodules',imgaes)\n",
    "np.save(saving_path_new+'nodule_images_border1', nodule_images_border)\n",
    "np.save(saving_path_new+'mal', mal)\n",
    "np.save(saving_path_new+'labels', labels)    "
   ]
  },
  {
   "cell_type": "code",
   "execution_count": 11,
   "metadata": {},
   "outputs": [],
   "source": [
    "def Y_threshold(Y_new):\n",
    "    Y = Y_new.copy()\n",
    "    for i,y in enumerate(Y_new):\n",
    "        if round(y)<3:\n",
    "            Y[i] = 0.0            \n",
    "        elif round(y)>=3:\n",
    "            Y[i] = 1.0\n",
    "            \n",
    "    #     Tracer()()        \n",
    "#     y_true = map(lambda x:(x==0)|(x==1),Y)\n",
    "#     Y = Y[y_true]\n",
    "#     X = X[y_true]  \n",
    "\n",
    "    return Y"
   ]
  },
  {
   "cell_type": "code",
   "execution_count": 22,
   "metadata": {},
   "outputs": [],
   "source": [
    "import numpy as np\n",
    "import matplotlib.pyplot as plt\n",
    "saving_path_new = \"/work/vsankar/Project-Luna/data/array_new/np_array/\"\n",
    "imgaes= np.load(saving_path_new+'nodules.npy')\n",
    "nodule_images_border = np.load(saving_path_new+'nodule_images_border1.npy')\n",
    "mal = np.load(saving_path_new+'mal.npy')\n",
    "labels = np.load(saving_path_new+'labels.npy')    \n",
    "\n",
    "from sklearn.utils import shuffle\n",
    "imgaes, nodule_images_border, mal,labels = shuffle(imgaes, nodule_images_border, mal,labels, random_state=0)"
   ]
  },
  {
   "cell_type": "code",
   "execution_count": 23,
   "metadata": {},
   "outputs": [],
   "source": [
    "labels = Y_threshold(mal)"
   ]
  },
  {
   "cell_type": "code",
   "execution_count": 24,
   "metadata": {},
   "outputs": [
    {
     "data": {
      "text/plain": [
       "array([ 2.75      ,  2.75      ,  4.25      ,  3.        ,  1.5       ,\n",
       "        2.        ,  1.        ,  3.        ,  3.33333333,  2.        ,\n",
       "        2.        ,  1.        ,  2.66666667,  5.        ,  4.        ,\n",
       "        3.        ,  4.        ,  3.75      ,  1.        ,  3.5       ,\n",
       "        1.25      ,  2.        ,  2.33333333,  3.        ,  3.33333333,\n",
       "        4.        ,  3.        ,  3.66666667,  3.25      ,  4.        ,\n",
       "        4.33333333,  3.        ,  3.75      ,  3.25      ,  3.5       ,\n",
       "        2.66666667,  5.        ,  2.        ,  2.66666667,  3.5       ,\n",
       "        2.        ,  2.33333333,  2.5       ,  3.        ,  5.        ,\n",
       "        4.66666667,  4.        ,  4.25      ,  3.5       ,  3.        ])"
      ]
     },
     "execution_count": 24,
     "metadata": {},
     "output_type": "execute_result"
    }
   ],
   "source": [
    "mal[0:50]"
   ]
  },
  {
   "cell_type": "code",
   "execution_count": 25,
   "metadata": {},
   "outputs": [
    {
     "data": {
      "text/plain": [
       "array([ 1.,  1.,  1.,  1.,  0.,  0.,  0.,  1.,  1.,  0.,  0.,  0.,  1.,\n",
       "        1.,  1.,  1.,  1.,  1.,  0.,  1.,  0.,  0.,  0.,  1.,  1.,  1.,\n",
       "        1.,  1.,  1.,  1.,  1.,  1.,  1.,  1.,  1.,  1.,  1.,  0.,  1.,\n",
       "        1.,  0.,  0.,  1.,  1.,  1.,  1.,  1.,  1.,  1.,  1.])"
      ]
     },
     "execution_count": 25,
     "metadata": {},
     "output_type": "execute_result"
    }
   ],
   "source": [
    "labels[0:50]"
   ]
  },
  {
   "cell_type": "markdown",
   "metadata": {},
   "source": [
    "mal"
   ]
  },
  {
   "cell_type": "markdown",
   "metadata": {},
   "source": [
    "mal"
   ]
  },
  {
   "cell_type": "code",
   "execution_count": 26,
   "metadata": {},
   "outputs": [
    {
     "data": {
      "text/plain": [
       "'/work/vsankar/Project-Luna/data/array_new/np_array/nodules'"
      ]
     },
     "execution_count": 26,
     "metadata": {},
     "output_type": "execute_result"
    }
   ],
   "source": [
    "saving_path_new = \"/work/vsankar/Project-Luna/data/array_new/np_array/\"\n",
    "saving_path_new+'nodules'"
   ]
  },
  {
   "cell_type": "code",
   "execution_count": 27,
   "metadata": {},
   "outputs": [
    {
     "name": "stdout",
     "output_type": "stream",
     "text": [
      "len(y=0) = 8352\n",
      "len(y=1) = 28947\n",
      "len(y=2) = 0\n"
     ]
    }
   ],
   "source": [
    "labels0 = labels[np.where(labels==0)]\n",
    "labels1 = labels[np.where(labels==1)]\n",
    "labels2 = labels[np.where(labels==2)]\n",
    "\n",
    "print('len(y=0) = ' + str(len(labels0)))\n",
    "print('len(y=1) = ' + str(len(labels1)))\n",
    "print('len(y=2) = ' + str(len(labels2)))\n"
   ]
  },
  {
   "cell_type": "code",
   "execution_count": 28,
   "metadata": {},
   "outputs": [],
   "source": [
    "\n",
    "y_true0 = map(lambda x:(x==0),labels)\n",
    "y_true1 = map(lambda x:(x==1),labels)\n",
    "y_true2 = map(lambda x:(x==2),labels)\n"
   ]
  },
  {
   "cell_type": "code",
   "execution_count": 29,
   "metadata": {},
   "outputs": [
    {
     "data": {
      "text/plain": [
       "37302"
      ]
     },
     "execution_count": 29,
     "metadata": {},
     "output_type": "execute_result"
    }
   ],
   "source": [
    "len(y_true0)"
   ]
  },
  {
   "cell_type": "code",
   "execution_count": 30,
   "metadata": {},
   "outputs": [],
   "source": [
    "labels0 = labels[y_true0]\n",
    "labels1 = labels[y_true1]\n",
    "labels2 = labels[y_true2]\n",
    "\n",
    "\n",
    "\n",
    "imgaes0 = imgaes[y_true0]\n",
    "imgaes1 = imgaes[y_true1]\n",
    "imgaes2 = imgaes[y_true2]\n",
    "\n",
    "\n",
    "nodule_images_border0 = nodule_images_border[y_true0]\n",
    "nodule_images_border1 = nodule_images_border[y_true1]\n",
    "nodule_images_border2 = nodule_images_border[y_true2]\n",
    "\n"
   ]
  },
  {
   "cell_type": "code",
   "execution_count": 31,
   "metadata": {},
   "outputs": [
    {
     "data": {
      "text/plain": [
       "(28947, 1, 96, 96, 3)"
      ]
     },
     "execution_count": 31,
     "metadata": {},
     "output_type": "execute_result"
    }
   ],
   "source": [
    "nodule_images_border1.shape\n"
   ]
  },
  {
   "cell_type": "code",
   "execution_count": 32,
   "metadata": {},
   "outputs": [],
   "source": [
    "lables_new = labels0[0:1000]\n",
    "lables_new = np.append(lables_new, labels1[0:1000], axis=0)\n",
    "# lables_new = np.append(lables_new, labels2[0:1000], axis=0)\n",
    "\n",
    "imgaes_new = imgaes0[0:1000]\n",
    "imgaes_new = np.append(imgaes_new, imgaes1[0:1000], axis=0)\n",
    "# imgaes_new = np.append(imgaes_new, imgaes2[0:1000], axis=0)\n",
    "\n",
    "nodule_images_border_new = nodule_images_border0[0:1000]\n",
    "nodule_images_border_new = np.append(nodule_images_border_new, nodule_images_border1[0:1000], axis=0)\n",
    "# nodule_images_border_new = np.append(nodule_images_border_new, nodule_images_border2[0:1000], axis=0)\n",
    "\n"
   ]
  },
  {
   "cell_type": "code",
   "execution_count": 34,
   "metadata": {},
   "outputs": [
    {
     "data": {
      "text/plain": [
       "(2000, 1, 96, 96, 3)"
      ]
     },
     "execution_count": 34,
     "metadata": {},
     "output_type": "execute_result"
    }
   ],
   "source": [
    "nodule_images_border_new.shape\n"
   ]
  },
  {
   "cell_type": "code",
   "execution_count": 35,
   "metadata": {},
   "outputs": [],
   "source": [
    "saving_path_new = \"/work/vsankar/Project-Luna/data/array_new/np_array/\"\n",
    "np.save(saving_path_new+'nodules_new_01_2000',imgaes_new)\n",
    "np.save(saving_path_new+'nodule_images_border_new_01_2000', nodule_images_border_new)\n",
    "np.save(saving_path_new+'labels_new_01_2000', lables_new)    \n",
    "\n"
   ]
  },
  {
   "cell_type": "code",
   "execution_count": 1,
   "metadata": {},
   "outputs": [],
   "source": [
    "import numpy as np\n",
    "import matplotlib.pyplot as plt\n",
    "\n",
    "saving_path_new = \"/work/vsankar/Project-Luna/data/array_new/np_array/\"\n",
    "imgaes_new = np.load(saving_path_new+'nodules_new.npy')\n",
    "nodule_images_border_new = np.load(saving_path_new+'nodule_images_border_new.npy' )\n",
    "lables_new = np.load(saving_path_new+'labels_new.npy')    \n"
   ]
  },
  {
   "cell_type": "code",
   "execution_count": 2,
   "metadata": {},
   "outputs": [
    {
     "data": {
      "text/plain": [
       "(3000, 1, 96, 96)"
      ]
     },
     "execution_count": 2,
     "metadata": {},
     "output_type": "execute_result"
    }
   ],
   "source": [
    "imgaes_new.shape"
   ]
  },
  {
   "cell_type": "code",
   "execution_count": null,
   "metadata": {},
   "outputs": [],
   "source": [
    "labels0.shape\n",
    "# imgaes1.shape\n",
    "# nodule_images_border2.shape"
   ]
  },
  {
   "cell_type": "code",
   "execution_count": null,
   "metadata": {},
   "outputs": [],
   "source": [
    "nodule_images_border.shape\n"
   ]
  },
  {
   "cell_type": "code",
   "execution_count": null,
   "metadata": {},
   "outputs": [],
   "source": [
    "imgaes.shape"
   ]
  },
  {
   "cell_type": "code",
   "execution_count": null,
   "metadata": {},
   "outputs": [],
   "source": [
    "labels.shape"
   ]
  },
  {
   "cell_type": "code",
   "execution_count": null,
   "metadata": {},
   "outputs": [],
   "source": [
    "mal.shape"
   ]
  },
  {
   "cell_type": "code",
   "execution_count": null,
   "metadata": {
    "scrolled": true
   },
   "outputs": [],
   "source": [
    "labels[1:1000]\n"
   ]
  },
  {
   "cell_type": "code",
   "execution_count": null,
   "metadata": {},
   "outputs": [],
   "source": [
    "mal"
   ]
  },
  {
   "cell_type": "code",
   "execution_count": 4,
   "metadata": {},
   "outputs": [
    {
     "data": {
      "image/png": "[encoded data removed]",
      "text/plain": [
       "<matplotlib.figure.Figure at 0x7fb7b004d910>"
      ]
     },
     "metadata": {},
     "output_type": "display_data"
    }
   ],
   "source": [
    "import matplotlib.pyplot as plt\n",
    "plt.imshow(imgaes_new[340,0,:,:]); plt.show()"
   ]
  },
  {
   "cell_type": "code",
   "execution_count": 5,
   "metadata": {},
   "outputs": [
    {
     "data": {
      "image/png": "[encoded data removed]",
      "text/plain": [
       "<matplotlib.figure.Figure at 0x7fb78f35cc10>"
      ]
     },
     "metadata": {},
     "output_type": "display_data"
    }
   ],
   "source": [
    "plt.imshow(nodule_images_border_new[340,0,:,:,:]); plt.show()"
   ]
  },
  {
   "cell_type": "code",
   "execution_count": 6,
   "metadata": {},
   "outputs": [
    {
     "data": {
      "text/plain": [
       "0.0"
      ]
     },
     "execution_count": 6,
     "metadata": {},
     "output_type": "execute_result"
    }
   ],
   "source": [
    "lables_new[340]"
   ]
  },
  {
   "cell_type": "code",
   "execution_count": null,
   "metadata": {},
   "outputs": [],
   "source": []
  },
  {
   "cell_type": "code",
   "execution_count": null,
   "metadata": {},
   "outputs": [],
   "source": []
  }
 ],
 "metadata": {
  "kernelspec": {
   "display_name": "Python (Lunch Cancer)",
   "language": "python",
   "name": "lung-cancer"
  },
  "language_info": {
   "codemirror_mode": {
    "name": "ipython",
    "version": 2
   },
   "file_extension": ".py",
   "mimetype": "text/x-python",
   "name": "python",
   "nbconvert_exporter": "python",
   "pygments_lexer": "ipython2",
   "version": "2.7.8"
  }
 },
 "nbformat": 4,
 "nbformat_minor": 2
}
